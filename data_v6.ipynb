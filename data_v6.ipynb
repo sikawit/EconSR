{
 "cells": [
  {
   "cell_type": "code",
   "execution_count": 1,
   "metadata": {},
   "outputs": [],
   "source": [
    "from urllib.request import urlopen\n",
    "from urllib.error import HTTPError, URLError\n",
    "from urllib.parse import urlparse, unquote, quote\n",
    "from bs4 import BeautifulSoup\n",
    "import pandas as pd\n",
    "import numpy as np\n",
    "from selenium import webdriver\n",
    "from selenium.webdriver.common.keys import Keys\n",
    "from selenium.webdriver.support.ui import WebDriverWait\n",
    "from selenium.webdriver.common.action_chains import ActionChains\n",
    "from w3lib.url import safe_url_string"
   ]
  },
  {
   "cell_type": "code",
   "execution_count": 2,
   "metadata": {},
   "outputs": [],
   "source": [
    "pd.set_option('display.max_colwidth', -1)\n",
    "df = pd.read_csv(\"/Users/sikawit/OneDrive/Chula/2018-2/Research/80urls.csv\")"
   ]
  },
  {
   "cell_type": "code",
   "execution_count": 3,
   "metadata": {
    "scrolled": true
   },
   "outputs": [
    {
     "data": {
      "text/html": [
       "<div>\n",
       "<style scoped>\n",
       "    .dataframe tbody tr th:only-of-type {\n",
       "        vertical-align: middle;\n",
       "    }\n",
       "\n",
       "    .dataframe tbody tr th {\n",
       "        vertical-align: top;\n",
       "    }\n",
       "\n",
       "    .dataframe thead th {\n",
       "        text-align: right;\n",
       "    }\n",
       "</style>\n",
       "<table border=\"1\" class=\"dataframe\">\n",
       "  <thead>\n",
       "    <tr style=\"text-align: right;\">\n",
       "      <th></th>\n",
       "      <th>Unnamed: 0</th>\n",
       "      <th>position</th>\n",
       "      <th>firm</th>\n",
       "      <th>salary</th>\n",
       "      <th>education</th>\n",
       "      <th>location</th>\n",
       "      <th>url</th>\n",
       "    </tr>\n",
       "  </thead>\n",
       "  <tbody>\n",
       "    <tr>\n",
       "      <th>0</th>\n",
       "      <td>0</td>\n",
       "      <td>โครงการพัฒนานักบริหารการเปลี่ยนแปลงรุ่นใหม่ (นปร. รุ่นที่ 13) ** ต้องสมัครตรงกับสำนักงาน ก.พ.ร. เท่านั้น **</td>\n",
       "      <td>สำนักงานคณะกรรมการพัฒนาระบบราชการ (สำนักงาน ก.พ.ร.)</td>\n",
       "      <td>เงินเดือน  : \\n\\r\\n\\r\\n\\r\\nขึ้นอยู่กับคุณสมบัติและประสบการณ์</td>\n",
       "      <td>วุฒิการศึกษา  : \\n\\r\\n\\r\\n\\r\\nปริญญาโทหรือสูงกว่า</td>\n",
       "      <td>สถานที่  : \\n\\r\\n\\r\\n\\r\\nกรุงเทพและปริมณฑล</td>\n",
       "      <td>https://www.jobtopgun.com/%E0%B8%AB%E0%B8%B2%E0%B8%87%E0%B8%B2%E0%B8%99/%E0%B9%82%E0%B8%84%E0%B8%A3%E0%B8%87%E0%B8%81%E0%B8%B2%E0%B8%A3%E0%B8%9E%E0%B8%B1%E0%B8%92%E0%B8%99%E0%B8%B2%E0%B8%99%E0%B8%B1%E0%B8%81%E0%B8%9A%E0%B8%A3%E0%B8%B4%E0%B8%AB%E0%B8%B2%E0%B8%A3%E0%B8%81%E0%B8%B2%E0%B8%A3%E0%B9%80%E0%B8%9B%E0%B8%A5%E0%B8%B5%E0%B9%88%E0%B8%A2%E0%B8%99%E0%B9%81%E0%B8%9B%E0%B8%A5%E0%B8%87%E0%B8%A3%E0%B8%B8%E0%B9%88%E0%B8%99%E0%B9%83%E0%B8%AB%E0%B8%A1%E0%B9%88-%E0%B8%99%E0%B8%9B%E0%B8%A3-%E0%B8%A3%E0%B8%B8%E0%B9%88%E0%B8%99%E0%B8%97%E0%B8%B5%E0%B9%88-13-**-%E0%B8%95%E0%B9%89%E0%B8%AD%E0%B8%87%E0%B8%AA%E0%B8%A1%E0%B8%B1%E0%B8%84%E0%B8%A3%E0%B8%95%E0%B8%A3%E0%B8%87%E0%B8%81%E0%B8%B1%E0%B8%9A%E0%B8%AA%E0%B8%B3%E0%B8%99%E0%B8%B1%E0%B8%81%E0%B8%87%E0%B8%B2%E0%B8%99-%E0%B8%81-%E0%B8%9E-%E0%B8%A3-%E0%B9%80%E0%B8%97%E0%B9%88%E0%B8%B2%E0%B8%99%E0%B8%B1%E0%B9%89%E0%B8%99-**%20-%20%E0%B8%AA%E0%B8%96%E0%B8%B2%E0%B8%9A%E0%B8%B1%E0%B8%99%E0%B8%AA%E0%B9%88%E0%B8%87%E0%B9%80%E0%B8%AA%E0%B8%A3%E0%B8%B4%E0%B8%A1%E0%B8%81%E0%B8%B2%E0%B8%A3%E0%B8%9A%E0%B8%A3%E0%B8%B4%E0%B8%AB%E0%B8%B2%E0%B8%A3%E0%B8%81%E0%B8%B4%E0%B8%88%E0%B8%81%E0%B8%B2%E0%B8%A3%E0%B8%9A%E0%B9%89%E0%B8%B2%E0%B8%99%E0%B9%80%E0%B8%A1%E0%B8%B7%E0%B8%AD%E0%B8%87%E0%B8%97%E0%B8%B5%E0%B9%88%E0%B8%94%E0%B8%B5-%E0%B8%AA%E0%B8%B3%E0%B8%99%E0%B8%B1%E0%B8%81%E0%B8%87%E0%B8%B2%E0%B8%99-%E0%B8%81-%E0%B8%9E-%E0%B8%A3-%E0%B8%AA%E0%B8%B3%E0%B8%99%E0%B8%B1%E0%B8%81%E0%B8%87%E0%B8%B2%E0%B8%99%E0%B8%84%E0%B8%93%E0%B8%B0%E0%B8%81%E0%B8%A3%E0%B8%A3%E0%B8%A1%E0%B8%81%E0%B8%B2%E0%B8%A3%E0%B8%9E%E0%B8%B1%E0%B8%92%E0%B8%99%E0%B8%B2%E0%B8%A3%E0%B8%B0%E0%B8%9A%E0%B8%9A%E0%B8%A3%E0%B8%B2%E0%B8%8A%E0%B8%81%E0%B8%B2%E0%B8%A3/jobpost/28545/3</td>\n",
       "    </tr>\n",
       "    <tr>\n",
       "      <th>1</th>\n",
       "      <td>1</td>\n",
       "      <td>Relationship Manager – Commercial Banking for Up-Country (Nakhon Ratchasima, Amata Nakorn, Phuket)</td>\n",
       "      <td>บริษัท ธนาคารยูโอบี จำกัด (มหาชน)</td>\n",
       "      <td>เงินเดือน  : \\n\\r\\n\\r\\n\\r\\nสามารถเจรจาต่อรองได้</td>\n",
       "      <td>วุฒิการศึกษา  : \\n\\r\\n\\r\\n\\r\\nปริญญาตรีหรือปริญญาโท</td>\n",
       "      <td>สถานที่  : \\n\\r\\n\\r\\n\\r\\nกรุงเทพและปริมณฑล</td>\n",
       "      <td>https://www.jobtopgun.com/%E0%B8%AB%E0%B8%B2%E0%B8%87%E0%B8%B2%E0%B8%99/relationship-manager-%E2%80%93-commercial-banking-for-up-country-nakhon-ratchasima-amata-nakorn-phuket%20-%20%E0%B8%98%E0%B8%99%E0%B8%B2%E0%B8%84%E0%B8%B2%E0%B8%A3%E0%B8%A2%E0%B8%B9%E0%B9%82%E0%B8%AD%E0%B8%9A%E0%B8%B5/jobpost/754/2117</td>\n",
       "    </tr>\n",
       "    <tr>\n",
       "      <th>2</th>\n",
       "      <td>2</td>\n",
       "      <td>Trade Sales (AVP - VP)</td>\n",
       "      <td>บริษัท ธนาคารยูโอบี จำกัด (มหาชน)</td>\n",
       "      <td>เงินเดือน  : \\n\\r\\n\\r\\n\\r\\nสามารถเจรจาต่อรองได้</td>\n",
       "      <td>วุฒิการศึกษา  : \\n\\r\\n\\r\\n\\r\\nปริญญาตรีหรือสูงกว่า</td>\n",
       "      <td>สถานที่  : \\n\\r\\n\\r\\n\\r\\nกรุงเทพมหานคร</td>\n",
       "      <td>https://www.jobtopgun.com/%E0%B8%AB%E0%B8%B2%E0%B8%87%E0%B8%B2%E0%B8%99/trade-sales-avp-vp%20-%20%E0%B8%98%E0%B8%99%E0%B8%B2%E0%B8%84%E0%B8%B2%E0%B8%A3%E0%B8%A2%E0%B8%B9%E0%B9%82%E0%B8%AD%E0%B8%9A%E0%B8%B5/jobpost/754/2092</td>\n",
       "    </tr>\n",
       "    <tr>\n",
       "      <th>3</th>\n",
       "      <td>3</td>\n",
       "      <td>Cash Management Sales (AVP - VP)</td>\n",
       "      <td>บริษัท ธนาคารยูโอบี จำกัด (มหาชน)</td>\n",
       "      <td>เงินเดือน  : \\n\\r\\n\\r\\n\\r\\nสามารถเจรจาต่อรองได้</td>\n",
       "      <td>วุฒิการศึกษา  : \\n\\r\\n\\r\\n\\r\\nปริญญาตรีหรือสูงกว่า</td>\n",
       "      <td>สถานที่  : \\n\\r\\n\\r\\n\\r\\nกรุงเทพมหานคร</td>\n",
       "      <td>https://www.jobtopgun.com/%E0%B8%AB%E0%B8%B2%E0%B8%87%E0%B8%B2%E0%B8%99/cash-management-sales-avp-vp%20-%20%E0%B8%98%E0%B8%99%E0%B8%B2%E0%B8%84%E0%B8%B2%E0%B8%A3%E0%B8%A2%E0%B8%B9%E0%B9%82%E0%B8%AD%E0%B8%9A%E0%B8%B5/jobpost/754/2090</td>\n",
       "    </tr>\n",
       "    <tr>\n",
       "      <th>4</th>\n",
       "      <td>4</td>\n",
       "      <td>Relationship Manager - SME</td>\n",
       "      <td>บริษัท ธนาคารยูโอบี จำกัด (มหาชน)</td>\n",
       "      <td>เงินเดือน  : \\n\\r\\n\\r\\n\\r\\nสามารถเจรจาต่อรองได้</td>\n",
       "      <td>วุฒิการศึกษา  : \\n\\r\\n\\r\\n\\r\\nปริญญาตรี</td>\n",
       "      <td>สถานที่  : \\n\\r\\n\\r\\n\\r\\nกทม. (สาทร)</td>\n",
       "      <td>https://www.jobtopgun.com/%E0%B8%AB%E0%B8%B2%E0%B8%87%E0%B8%B2%E0%B8%99/relationship-manager-sme%20-%20%E0%B8%98%E0%B8%99%E0%B8%B2%E0%B8%84%E0%B8%B2%E0%B8%A3%E0%B8%A2%E0%B8%B9%E0%B9%82%E0%B8%AD%E0%B8%9A%E0%B8%B5/jobpost/754/1771</td>\n",
       "    </tr>\n",
       "  </tbody>\n",
       "</table>\n",
       "</div>"
      ],
      "text/plain": [
       "   Unnamed: 0  \\\n",
       "0  0            \n",
       "1  1            \n",
       "2  2            \n",
       "3  3            \n",
       "4  4            \n",
       "\n",
       "                                                                                                      position  \\\n",
       "0  โครงการพัฒนานักบริหารการเปลี่ยนแปลงรุ่นใหม่ (นปร. รุ่นที่ 13) ** ต้องสมัครตรงกับสำนักงาน ก.พ.ร. เท่านั้น **   \n",
       "1  Relationship Manager – Commercial Banking for Up-Country (Nakhon Ratchasima, Amata Nakorn, Phuket)            \n",
       "2  Trade Sales (AVP - VP)                                                                                        \n",
       "3  Cash Management Sales (AVP - VP)                                                                              \n",
       "4  Relationship Manager - SME                                                                                    \n",
       "\n",
       "                                                  firm  \\\n",
       "0  สำนักงานคณะกรรมการพัฒนาระบบราชการ (สำนักงาน ก.พ.ร.)   \n",
       "1  บริษัท ธนาคารยูโอบี จำกัด (มหาชน)                     \n",
       "2  บริษัท ธนาคารยูโอบี จำกัด (มหาชน)                     \n",
       "3  บริษัท ธนาคารยูโอบี จำกัด (มหาชน)                     \n",
       "4  บริษัท ธนาคารยูโอบี จำกัด (มหาชน)                     \n",
       "\n",
       "                                                         salary  \\\n",
       "0  เงินเดือน  : \\n\\r\\n\\r\\n\\r\\nขึ้นอยู่กับคุณสมบัติและประสบการณ์   \n",
       "1  เงินเดือน  : \\n\\r\\n\\r\\n\\r\\nสามารถเจรจาต่อรองได้                \n",
       "2  เงินเดือน  : \\n\\r\\n\\r\\n\\r\\nสามารถเจรจาต่อรองได้                \n",
       "3  เงินเดือน  : \\n\\r\\n\\r\\n\\r\\nสามารถเจรจาต่อรองได้                \n",
       "4  เงินเดือน  : \\n\\r\\n\\r\\n\\r\\nสามารถเจรจาต่อรองได้                \n",
       "\n",
       "                                             education  \\\n",
       "0  วุฒิการศึกษา  : \\n\\r\\n\\r\\n\\r\\nปริญญาโทหรือสูงกว่า     \n",
       "1  วุฒิการศึกษา  : \\n\\r\\n\\r\\n\\r\\nปริญญาตรีหรือปริญญาโท   \n",
       "2  วุฒิการศึกษา  : \\n\\r\\n\\r\\n\\r\\nปริญญาตรีหรือสูงกว่า    \n",
       "3  วุฒิการศึกษา  : \\n\\r\\n\\r\\n\\r\\nปริญญาตรีหรือสูงกว่า    \n",
       "4  วุฒิการศึกษา  : \\n\\r\\n\\r\\n\\r\\nปริญญาตรี               \n",
       "\n",
       "                                     location  \\\n",
       "0  สถานที่  : \\n\\r\\n\\r\\n\\r\\nกรุงเทพและปริมณฑล   \n",
       "1  สถานที่  : \\n\\r\\n\\r\\n\\r\\nกรุงเทพและปริมณฑล   \n",
       "2  สถานที่  : \\n\\r\\n\\r\\n\\r\\nกรุงเทพมหานคร       \n",
       "3  สถานที่  : \\n\\r\\n\\r\\n\\r\\nกรุงเทพมหานคร       \n",
       "4  สถานที่  : \\n\\r\\n\\r\\n\\r\\nกทม. (สาทร)         \n",
       "\n",
       "                                                                                                                                                                                                                                                                                                                                                                                                                                                                                                                                                                                                                                                                                                                                                                                                                                                                                                                                                                                                                                                                                                                                                                                                                                                                                                                                                                                                                                                                                                                                                                                                                                                                                                                                                  url  \n",
       "0  https://www.jobtopgun.com/%E0%B8%AB%E0%B8%B2%E0%B8%87%E0%B8%B2%E0%B8%99/%E0%B9%82%E0%B8%84%E0%B8%A3%E0%B8%87%E0%B8%81%E0%B8%B2%E0%B8%A3%E0%B8%9E%E0%B8%B1%E0%B8%92%E0%B8%99%E0%B8%B2%E0%B8%99%E0%B8%B1%E0%B8%81%E0%B8%9A%E0%B8%A3%E0%B8%B4%E0%B8%AB%E0%B8%B2%E0%B8%A3%E0%B8%81%E0%B8%B2%E0%B8%A3%E0%B9%80%E0%B8%9B%E0%B8%A5%E0%B8%B5%E0%B9%88%E0%B8%A2%E0%B8%99%E0%B9%81%E0%B8%9B%E0%B8%A5%E0%B8%87%E0%B8%A3%E0%B8%B8%E0%B9%88%E0%B8%99%E0%B9%83%E0%B8%AB%E0%B8%A1%E0%B9%88-%E0%B8%99%E0%B8%9B%E0%B8%A3-%E0%B8%A3%E0%B8%B8%E0%B9%88%E0%B8%99%E0%B8%97%E0%B8%B5%E0%B9%88-13-**-%E0%B8%95%E0%B9%89%E0%B8%AD%E0%B8%87%E0%B8%AA%E0%B8%A1%E0%B8%B1%E0%B8%84%E0%B8%A3%E0%B8%95%E0%B8%A3%E0%B8%87%E0%B8%81%E0%B8%B1%E0%B8%9A%E0%B8%AA%E0%B8%B3%E0%B8%99%E0%B8%B1%E0%B8%81%E0%B8%87%E0%B8%B2%E0%B8%99-%E0%B8%81-%E0%B8%9E-%E0%B8%A3-%E0%B9%80%E0%B8%97%E0%B9%88%E0%B8%B2%E0%B8%99%E0%B8%B1%E0%B9%89%E0%B8%99-**%20-%20%E0%B8%AA%E0%B8%96%E0%B8%B2%E0%B8%9A%E0%B8%B1%E0%B8%99%E0%B8%AA%E0%B9%88%E0%B8%87%E0%B9%80%E0%B8%AA%E0%B8%A3%E0%B8%B4%E0%B8%A1%E0%B8%81%E0%B8%B2%E0%B8%A3%E0%B8%9A%E0%B8%A3%E0%B8%B4%E0%B8%AB%E0%B8%B2%E0%B8%A3%E0%B8%81%E0%B8%B4%E0%B8%88%E0%B8%81%E0%B8%B2%E0%B8%A3%E0%B8%9A%E0%B9%89%E0%B8%B2%E0%B8%99%E0%B9%80%E0%B8%A1%E0%B8%B7%E0%B8%AD%E0%B8%87%E0%B8%97%E0%B8%B5%E0%B9%88%E0%B8%94%E0%B8%B5-%E0%B8%AA%E0%B8%B3%E0%B8%99%E0%B8%B1%E0%B8%81%E0%B8%87%E0%B8%B2%E0%B8%99-%E0%B8%81-%E0%B8%9E-%E0%B8%A3-%E0%B8%AA%E0%B8%B3%E0%B8%99%E0%B8%B1%E0%B8%81%E0%B8%87%E0%B8%B2%E0%B8%99%E0%B8%84%E0%B8%93%E0%B8%B0%E0%B8%81%E0%B8%A3%E0%B8%A3%E0%B8%A1%E0%B8%81%E0%B8%B2%E0%B8%A3%E0%B8%9E%E0%B8%B1%E0%B8%92%E0%B8%99%E0%B8%B2%E0%B8%A3%E0%B8%B0%E0%B8%9A%E0%B8%9A%E0%B8%A3%E0%B8%B2%E0%B8%8A%E0%B8%81%E0%B8%B2%E0%B8%A3/jobpost/28545/3  \n",
       "1  https://www.jobtopgun.com/%E0%B8%AB%E0%B8%B2%E0%B8%87%E0%B8%B2%E0%B8%99/relationship-manager-%E2%80%93-commercial-banking-for-up-country-nakhon-ratchasima-amata-nakorn-phuket%20-%20%E0%B8%98%E0%B8%99%E0%B8%B2%E0%B8%84%E0%B8%B2%E0%B8%A3%E0%B8%A2%E0%B8%B9%E0%B9%82%E0%B8%AD%E0%B8%9A%E0%B8%B5/jobpost/754/2117                                                                                                                                                                                                                                                                                                                                                                                                                                                                                                                                                                                                                                                                                                                                                                                                                                                                                                                                                                                                                                                                                                                                                                                                                                                                                                                                                                                                                                  \n",
       "2  https://www.jobtopgun.com/%E0%B8%AB%E0%B8%B2%E0%B8%87%E0%B8%B2%E0%B8%99/trade-sales-avp-vp%20-%20%E0%B8%98%E0%B8%99%E0%B8%B2%E0%B8%84%E0%B8%B2%E0%B8%A3%E0%B8%A2%E0%B8%B9%E0%B9%82%E0%B8%AD%E0%B8%9A%E0%B8%B5/jobpost/754/2092                                                                                                                                                                                                                                                                                                                                                                                                                                                                                                                                                                                                                                                                                                                                                                                                                                                                                                                                                                                                                                                                                                                                                                                                                                                                                                                                                                                                                                                                                                                      \n",
       "3  https://www.jobtopgun.com/%E0%B8%AB%E0%B8%B2%E0%B8%87%E0%B8%B2%E0%B8%99/cash-management-sales-avp-vp%20-%20%E0%B8%98%E0%B8%99%E0%B8%B2%E0%B8%84%E0%B8%B2%E0%B8%A3%E0%B8%A2%E0%B8%B9%E0%B9%82%E0%B8%AD%E0%B8%9A%E0%B8%B5/jobpost/754/2090                                                                                                                                                                                                                                                                                                                                                                                                                                                                                                                                                                                                                                                                                                                                                                                                                                                                                                                                                                                                                                                                                                                                                                                                                                                                                                                                                                                                                                                                                                            \n",
       "4  https://www.jobtopgun.com/%E0%B8%AB%E0%B8%B2%E0%B8%87%E0%B8%B2%E0%B8%99/relationship-manager-sme%20-%20%E0%B8%98%E0%B8%99%E0%B8%B2%E0%B8%84%E0%B8%B2%E0%B8%A3%E0%B8%A2%E0%B8%B9%E0%B9%82%E0%B8%AD%E0%B8%9A%E0%B8%B5/jobpost/754/1771                                                                                                                                                                                                                                                                                                                                                                                                                                                                                                                                                                                                                                                                                                                                                                                                                                                                                                                                                                                                                                                                                                                                                                                                                                                                                                                                                                                                                                                                                                                "
      ]
     },
     "execution_count": 3,
     "metadata": {},
     "output_type": "execute_result"
    }
   ],
   "source": [
    "df.head()"
   ]
  },
  {
   "cell_type": "code",
   "execution_count": 24,
   "metadata": {},
   "outputs": [],
   "source": [
    "testweb = df.url[0]\n",
    "driver = webdriver.Firefox()\n",
    "driver.maximize_window()\n",
    "driver.get(testweb)\n",
    "driver.implicitly_wait(5)\n",
    "moreList = driver.find_elements_by_link_text('ดูเพิ่มเติม')"
   ]
  },
  {
   "cell_type": "code",
   "execution_count": 23,
   "metadata": {},
   "outputs": [
    {
     "data": {
      "text/plain": [
       "2"
      ]
     },
     "execution_count": 23,
     "metadata": {},
     "output_type": "execute_result"
    }
   ],
   "source": [
    "len(moreList)"
   ]
  },
  {
   "cell_type": "code",
   "execution_count": 25,
   "metadata": {},
   "outputs": [],
   "source": [
    "moreList = driver.find_elements_by_link_text('ดูเพิ่มเติม')\n",
    "moreList[0].click()"
   ]
  },
  {
   "cell_type": "code",
   "execution_count": 26,
   "metadata": {},
   "outputs": [],
   "source": [
    "moreList[1].click()"
   ]
  },
  {
   "cell_type": "code",
   "execution_count": 21,
   "metadata": {},
   "outputs": [],
   "source": [
    "driver.quit()"
   ]
  },
  {
   "cell_type": "code",
   "execution_count": 27,
   "metadata": {},
   "outputs": [],
   "source": [
    "firmButton = driver.find_element_by_xpath('//*[@id=\"previewJobPostLayer\"]/div[2]/div/div[2]/div[5]/div[19]/div[2]')"
   ]
  },
  {
   "cell_type": "code",
   "execution_count": 28,
   "metadata": {},
   "outputs": [],
   "source": [
    "firmButton.click()"
   ]
  },
  {
   "cell_type": "code",
   "execution_count": 29,
   "metadata": {},
   "outputs": [],
   "source": [
    "missionButton = driver.find_element_by_xpath('//*[@id=\"previewJobPostLayer\"]/div[2]/div/div[2]/div[5]/div[19]/div[5]')\n",
    "missionButton.click()"
   ]
  },
  {
   "cell_type": "code",
   "execution_count": 30,
   "metadata": {},
   "outputs": [],
   "source": [
    "hrButton = driver.find_element_by_xpath('//*[@id=\"previewJobPostLayer\"]/div[2]/div/div[2]/div[5]/div[19]/div[8]')\n",
    "hrButton.click()"
   ]
  },
  {
   "cell_type": "code",
   "execution_count": 31,
   "metadata": {},
   "outputs": [],
   "source": [
    "contactButton = driver.find_element_by_xpath('//*[@id=\"previewJobPostLayer\"]/div[2]/div/div[2]/div[5]/div[19]/div[11]')\n",
    "contactButton.click()"
   ]
  },
  {
   "cell_type": "code",
   "execution_count": 32,
   "metadata": {},
   "outputs": [],
   "source": [
    "firmType = driver.find_element_by_xpath('/html/body/div[5]/div[4]/div[1]/div[2]/div[2]/div/div/div[2]/div/div[2]/div/div[2]/div[1]/div[10]/table/tbody/tr/td[2]/span')"
   ]
  },
  {
   "cell_type": "code",
   "execution_count": 33,
   "metadata": {},
   "outputs": [
    {
     "data": {
      "text/plain": [
       "'หน่วยงานรัฐบาล'"
      ]
     },
     "execution_count": 33,
     "metadata": {},
     "output_type": "execute_result"
    }
   ],
   "source": [
    "firmType.text"
   ]
  },
  {
   "cell_type": "code",
   "execution_count": 34,
   "metadata": {},
   "outputs": [
    {
     "data": {
      "text/plain": [
       "'สำนักงานคณะกรรมการพัฒนาระบบราชการ (สำนักงาน ก.พ.ร.) เปิดรับสมัครคัดเลือกบุคคลเพื่อเข้ารับราชการภายใต้โครงการพัฒนานักบริหารการเปลี่ยนแปลงรุ่นใหม่ (นปร.) รุ่นที่ 13 จำนวน 30 ตำแหน่ง ระหว่างวันที่ 12 ต.ค. 2561 – 28 ธ.ค. 2561 ผู้ที่ได้รับคัดเลือกจะได้บรรจุในตำแหน่งนักพัฒนาระบบราชการ ตั้งแต่วันที่ 1 พ.ค. 2562 โดยจะได้เรียนรู้ด้านวิชาการกับคณาจารย์ผู้ทรงคุณวุฒิ และฝึกปฏิบัติราชการภายใต้การสอนงานของปลัดกระทรวง อธิบดี เอกอัครราชทูต/กงสุลใหญ่ ผู้ว่าราชการจังหวัด ผู้บริหารภาคเอกชน เป็นระยะเวลา 22 เดือน ก่อนที่จะเลือกไปปฏิบัติงานยังกระทรวง กรมต่างๆ \\n\\nโอกาสที่ได้รับจากการเป็น นปร.\\nโครงการพัฒนานักบริหารการเปลี่ยนแปลงรุ่นใหม่ เน้นการฝึกปฏิบัติราชการมากกว่าการเรียนรู้ทางวิชาการ จึงเป็นหลักสูตรที่เปิดโอกาสให้ได้รับประสบการณ์ตรงทั้งในประเทศและต่างประเทศ ทั้งยังมีโอกาสแลกเปลี่ยนแนวคิดและประสบการณ์กับผู้ทรงคุณวุฒิและผู้เข้าร่วมโครงการด้วยกัน ถือเป็นโครงการที่น่าสนใจและเป็นทางเลือกหนึ่งสำหรับคนรุ่นใหม่ที่อยากเข้ามาร่วมพัฒนาระบบราชการ\\n\\nคุณสมบัติของผู้สมัคร\\n- ปริญญาโท อายุไม่เกิน 30 ปีบริบูรณ์ นับถึงวันปิดรับสมัคร\\n- ปริญญาเอก อายุไม่เกิน 35 ปีบริบูรณ์ นับถึงวันปิดรับสมัคร\\nไม่จำกัดสาขาวิชา จากสถาบันการศึกษาในประเทศ หรือต่างประเทศที่ ก.พ. รับรอง\\n \\nหลักฐาน และเอกสารประกอบการสมัคร\\n1. รูปผู้สมัครหน้าตรง ไม่สวมหมวก ไม่สวมแว่นตาดำ ขนาด 1 นิ้ว ที่ถ่ายมาแล้วไม่เกิน 6 เดือน \\n2. ใบแสดงผลการสอบ TOEFL และ/หรือ IELTS และ/หรือ CU-TEP (ถ้ามี) ในกรณีไม่สอบภาษาอังกฤษ มีผลทดสอบตั้งแต่วันที่ 28 ธันวาคม 2559 เป็นต้นไป\\n\\nดาวน์โหลดใบสมัครทางเว็บไซต์ www.opdc.go.th  หรือ www.igpthai.org\\n\\nสมัครทางอินเตอร์เน็ต ได้ที่ https://opdc.thaijobjob.com\\n\\nสนใจสอบถามรายละเอียดเพิ่มเติมได้ที่ สำนักงาน ก.พ.ร. โทร 0 2356 9999 ต่อ 8842, 8825, 8928 http://www.opdc.go.th หรือ สถาบันส่งเสริมการบริหารกิจการบ้านเมืองทีดี สำนักงาน ก.พ.ร. โทร 0 2141 9015 – 18  http://www.igpthai.org หรือสมัครทางอินเทอร์เน็ต ได้ที่ https://opdc.thaijobjob.com ตามเงื่อนไขที่กำหนดในประกาศรับสมัคร'"
      ]
     },
     "execution_count": 34,
     "metadata": {},
     "output_type": "execute_result"
    }
   ],
   "source": [
    "q = driver.find_element_by_xpath('/html/body/div[5]/div[4]/div[1]/div[2]/div[2]/div/div/div[2]/div/div[2]/div/div[2]/div[5]/div[1]/div[1]/div[3]/table/tbody/tr/td/div[2]')\n",
    "q.text"
   ]
  },
  {
   "cell_type": "code",
   "execution_count": 30,
   "metadata": {},
   "outputs": [],
   "source": [
    "firmTypeList = []\n",
    "jdList = []\n",
    "qList = []\n",
    "reqList = []\n",
    "companyBgList = []\n",
    "postDateList = []\n",
    "\n",
    "def clickelem(url):\n",
    "    global firmTypeList, jdList, qList, reqList, companyBgList, postDateList\n",
    "\n",
    "    #opening url\n",
    "    driver = webdriver.Firefox()\n",
    "    driver.maximize_window()\n",
    "    driver.get(url)\n",
    "    driver.implicitly_wait(5)\n",
    "    \n",
    "    #open hidden elem\n",
    "    moreList = driver.find_elements_by_link_text('ดูเพิ่มเติม')\n",
    "    try:\n",
    "        cardSeeMore = driver.find_element_by_class_name('cardSeeMore')\n",
    "        k = -1\n",
    "        #see more jobs same firm == we dont care\n",
    "    except:\n",
    "        k = 0\n",
    "    for i in range(0, len(moreList)+k):\n",
    "        moreList[i].click()\n",
    "    \n",
    "    firmButton = driver.find_element_by_xpath('//*[@id=\"previewJobPostLayer\"]/div[2]/div/div[2]/div[5]/div[19]/div[2]')\n",
    "    firmButton.click()\n",
    "    missionButton = driver.find_element_by_xpath('//*[@id=\"previewJobPostLayer\"]/div[2]/div/div[2]/div[5]/div[19]/div[5]')\n",
    "    missionButton.click()\n",
    "    hrButton = driver.find_element_by_xpath('//*[@id=\"previewJobPostLayer\"]/div[2]/div/div[2]/div[5]/div[19]/div[8]')\n",
    "    hrButton.click()\n",
    "    contactButton = driver.find_element_by_xpath('//*[@id=\"previewJobPostLayer\"]/div[2]/div/div[2]/div[5]/div[19]/div[11]')\n",
    "    contactButton.click()\n",
    "    \n",
    "    #scrape\n",
    "    try:\n",
    "        postDate = driver.find_element_by_xpath('/html/body/div[5]/div[4]/div[1]/div[2]/div[2]/div/div/div[2]/div/div[2]/div/div[2]/div[1]/div[1]/p')\n",
    "        postDateList.append(postDate.text.strip())\n",
    "    except:\n",
    "        postDateList.append(\"NULL\")\n",
    "    \n",
    "    try:\n",
    "        jd = driver.find_element_by_xpath('//*[@id=\"jobDescriptionWithHeader\"]')\n",
    "        jdList.append(jd.text)\n",
    "        jd_check =False\n",
    "    except:\n",
    "        try: \n",
    "            jd = driver.find_element_by_xpath('//*[@id=\"jobDescription\"]')\n",
    "            jdList.append(jd.text)\n",
    "            jd_check = False\n",
    "        except:\n",
    "            jdList.append(\"NULL\")\n",
    "\n",
    "    try:\n",
    "        q = driver.find_element_by_xpath('//*[@id=\"qualificationWithHeader\"]')\n",
    "        qList.append(q.text)\n",
    "    except:\n",
    "        try: \n",
    "            q = driver.find_element_by_id('qualification')\n",
    "            qList.append(q.text)\n",
    "        except:\n",
    "            qList.append(\"NULL\")\n",
    "\n",
    "    try:\n",
    "        firmType = driver.find_element_by_xpath('/html/body/div[5]/div[4]/div[1]/div[2]/div[2]/div/div/div[2]/div/div[2]/div/div[2]/div[1]/div[10]/table/tbody/tr/td[2]/span')\n",
    "        firmTypeList.append(firmType.text)\n",
    "    except:\n",
    "        firmTypeList.append(\"NULL\")\n",
    "    \n",
    "    try:\n",
    "        requirements = driver.find_elements_by_xpath('//*[@id=\"basic_require\"]')\n",
    "        req = ''\n",
    "        for i in requirements:\n",
    "            req += ('\\n' + (i.text))\n",
    "        reqList.append(req.strip())\n",
    "    except:\n",
    "        reqList.append(\"NULL\")\n",
    "        \n",
    "    try:\n",
    "        companyBg = driver.find_element_by_xpath('//*[@id=\"companyBackground\"]')\n",
    "        companyBgList.append(companyBg.text)\n",
    "    except:\n",
    "        companyBgList.append(\"NULL\")\n",
    "    \n",
    "    driver.quit()\n",
    "\n",
    "    return postDateList, firmTypeList, jdList, qList, reqList, companyBgList\n",
    "    \n",
    "   \n",
    "    "
   ]
  },
  {
   "cell_type": "code",
   "execution_count": 31,
   "metadata": {},
   "outputs": [
    {
     "data": {
      "text/plain": [
       "(['27/11/2561'],\n",
       " ['หน่วยงานรัฐบาล'],\n",
       " ['NULL'],\n",
       " ['คุณสมบัติ\\n\\nสำนักงานคณะกรรมการพัฒนาระบบราชการ (สำนักงาน ก.พ.ร.) เปิดรับสมัครคัดเลือกบุคคลเพื่อเข้ารับราชการภายใต้โครงการพัฒนานักบริหารการเปลี่ยนแปลงรุ่นใหม่ (นปร.) รุ่นที่ 13 จำนวน 30 ตำแหน่ง ระหว่างวันที่ 12 ต.ค. 2561 – 28 ธ.ค. 2561 ผู้ที่ได้รับคัดเลือกจะได้บรรจุในตำแหน่งนักพัฒนาระบบราชการ ตั้งแต่วันที่ 1 พ.ค. 2562 โดยจะได้เรียนรู้ด้านวิชาการกับคณาจารย์ผู้ทรงคุณวุฒิ และฝึกปฏิบัติราชการภายใต้การสอนงานของปลัดกระทรวง อธิบดี เอกอัครราชทูต/กงสุลใหญ่ ผู้ว่าราชการจังหวัด ผู้บริหารภาคเอกชน เป็นระยะเวลา 22 เดือน ก่อนที่จะเลือกไปปฏิบัติงานยังกระทรวง กรมต่างๆ \\n\\nโอกาสที่ได้รับจากการเป็น นปร.\\nโครงการพัฒนานักบริหารการเปลี่ยนแปลงรุ่นใหม่ เน้นการฝึกปฏิบัติราชการมากกว่าการเรียนรู้ทางวิชาการ จึงเป็นหลักสูตรที่เปิดโอกาสให้ได้รับประสบการณ์ตรงทั้งในประเทศและต่างประเทศ ทั้งยังมีโอกาสแลกเปลี่ยนแนวคิดและประสบการณ์กับผู้ทรงคุณวุฒิและผู้เข้าร่วมโครงการด้วยกัน ถือเป็นโครงการที่น่าสนใจและเป็นทางเลือกหนึ่งสำหรับคนรุ่นใหม่ที่อยากเข้ามาร่วมพัฒนาระบบราชการ\\n\\nคุณสมบัติของผู้สมัคร\\n- ปริญญาโท อายุไม่เกิน 30 ปีบริบูรณ์ นับถึงวันปิดรับสมัคร\\n- ปริญญาเอก อายุไม่เกิน 35 ปีบริบูรณ์ นับถึงวันปิดรับสมัคร\\nไม่จำกัดสาขาวิชา จากสถาบันการศึกษาในประเทศ หรือต่างประเทศที่ ก.พ. รับรอง\\n \\nหลักฐาน และเอกสารประกอบการสมัคร\\n1. รูปผู้สมัครหน้าตรง ไม่สวมหมวก ไม่สวมแว่นตาดำ ขนาด 1 นิ้ว ที่ถ่ายมาแล้วไม่เกิน 6 เดือน \\n2. ใบแสดงผลการสอบ TOEFL และ/หรือ IELTS และ/หรือ CU-TEP (ถ้ามี) ในกรณีไม่สอบภาษาอังกฤษ มีผลทดสอบตั้งแต่วันที่ 28 ธันวาคม 2559 เป็นต้นไป\\n\\nดาวน์โหลดใบสมัครทางเว็บไซต์ www.opdc.go.th  หรือ www.igpthai.org\\n\\nสมัครทางอินเตอร์เน็ต ได้ที่ https://opdc.thaijobjob.com\\n\\nสนใจสอบถามรายละเอียดเพิ่มเติมได้ที่ สำนักงาน ก.พ.ร. โทร 0 2356 9999 ต่อ 8842, 8825, 8928 http://www.opdc.go.th หรือ สถาบันส่งเสริมการบริหารกิจการบ้านเมืองทีดี สำนักงาน ก.พ.ร. โทร 0 2141 9015 – 18  http://www.igpthai.org หรือสมัครทางอินเทอร์เน็ต ได้ที่ https://opdc.thaijobjob.com ตามเงื่อนไขที่กำหนดในประกาศรับสมัคร\\n\\n\\n '],\n",
       " ['ประเภทของงาน : งานประจำ\\nจำนวน : 30 อัตรา\\nเพศ : ไม่ระบุ\\nเงินเดือน(บาท) : ขึ้นอยู่กับคุณสมบัติและประสบการณ์\\nประสบการณ์ : 0 - 10 ปี\\nสถานที่ : กรุงเทพและปริมณฑล\\nการศึกษา : ปริญญาโทหรือสูงกว่า'],\n",
       " ['เกี่ยวกับบริษัท\\nโครงการพัฒนานักบริหารการเปลี่ยนแปลงรุ่นใหม่ หรือ โครงการ นปร. โครงการพัฒนานักบริหารการเปลี่ยนแปลงรุ่นใหม่ เป็นเรื่องของการบริหารคนเก่ง Talent Management คือนำคนที่มีศักยภาพสูงมาเติมเต็มในส่วนที่เขาขาด คนรุ่นใหม่มักจะขาดในเรื่องประสบการณ์ ทักษะการทำงาน จึงนับเป็นโอกาสที่ดีสำหรับผู้เข้าร่วมโครงการ นปร. คือ มีโอกาสฝึกงานในหลายๆ หน่วยงาน ทั้งในระดับจังหวัด สถานเอกอัครราชทูตในต่างประเทศ กระทรวง ทบวง กรมต่างๆ ตลอดจนหน่วยงานภาคเอกชน ซึ่งจะช่วยทำให้เขานั้นบรรลุตามเจตนารมณ์ คือ เป็นนักคิดที่มีวิสัยทัศน์ นักปฏิบัติที่สามารถปฏิบัติได้จริง\\n\\nโครงการ นปร. มีแนวคิดของหลักสูตรเนื่องจากว่า ปัจจุบันหลักสูตรการเรียนการสอนของสถาบันอุดมศึกษาไม่ได้มีวัตถุประสงค์หลักเพื่อทำการฝึกหัดข้าราชการฝ่ายพลเรือนเป็นการเฉพาะ และผู้สำเร็จการศึกษาเองไม่นิยมในการสมัครเข้ารับราชการเช่นในอดีต ประกอบกับปัญหาระบบราชการไทยที่ไม่ได้มีการจัดเตรียมและพัฒนาข้าราชการอย่างเป็นระบบ โดยเฉพาะการสอนงานเพื่อถ่ายทอดความรู้และประสบการณ์รวมถึงการฝึกปฏิบัติในสถานการณ์จริง สำนักงาน ก.พ.ร. จึงได้จัดให้มีโครงการพัฒนานักบริหารการเปลี่ยนแปลงรุ่นใหม่ขึ้นหรือที่เรียกย่อ ๆ ว่า นปร. เพื่อสรรหาและคัดเลือกบุคคลที่มีความรู้ ความสามารถ และสมรรถนะสูงเข้ารับราชการ โดยเปิดโครงการ นปร รุ่นแรกในปี พ.ศ. 2548 และปัจจุบันนี้เปิดดำเนินการมาแล้ว 12 รุ่น\\n\\nสนใจสอบถามรายละเอียดเพิ่มเติมได้ที่ สำนักงาน ก.พ.ร. โทร 0 2356 9999 ต่อ8842, 8928, 8825 และ 9937 http://www.opdc.go.th หรือสถาบันส่งเสริมการบริหารกิจการบ้านเมืองทีดี สำนักงาน ก.พ.ร. โทร 0 2141 9015 – 18  http://www.igpthai.org  หรือสมัครที่สำนักงาน ก.พ.ร. ทางไปรษณีย์ หรือทางอินเทอร์เน็ต ตามเงื่อนไขที่กำหนดในประกาศรับสมัคร\\n\\n...สร้างคนเก่ง พัฒนาคนดี ขับเคลื่อนประเทศไทยให้ก้าวหน้า…'])"
      ]
     },
     "execution_count": 31,
     "metadata": {},
     "output_type": "execute_result"
    }
   ],
   "source": [
    "clickelem(df.url[0])"
   ]
  },
  {
   "cell_type": "code",
   "execution_count": 25,
   "metadata": {},
   "outputs": [
    {
     "data": {
      "text/plain": [
       "[]"
      ]
     },
     "execution_count": 25,
     "metadata": {},
     "output_type": "execute_result"
    }
   ],
   "source": [
    "jdList"
   ]
  },
  {
   "cell_type": "code",
   "execution_count": 32,
   "metadata": {},
   "outputs": [
    {
     "data": {
      "text/plain": [
       "(['27/11/2561', '27/11/2561'],\n",
       " ['หน่วยงานรัฐบาล', 'การเงิน/การธนาคาร/หลักทรัพย์'],\n",
       " ['NULL',\n",
       "  'หน้าที่และความรับผิดชอบ\\n• Acquire new customers in target industries/segments directly & through branches referral.\\n• Maintain & Deepen relationships for more business opportunities to increase account profitability.\\n• Prepare Account Plan / Strategy.\\n• Work closely with product partners to cross-sell other products to maximize the bank’s profit and gain greater share of wallet.\\n• Coordinate with UOB subsidiaries and/or UOBS for cross-border opportunities\\n• Ensure highest quality of services.\\n• Proper and adequate follow up on credit quality of portfolio to minimize NPL.'],\n",
       " ['คุณสมบัติ\\n\\nสำนักงานคณะกรรมการพัฒนาระบบราชการ (สำนักงาน ก.พ.ร.) เปิดรับสมัครคัดเลือกบุคคลเพื่อเข้ารับราชการภายใต้โครงการพัฒนานักบริหารการเปลี่ยนแปลงรุ่นใหม่ (นปร.) รุ่นที่ 13 จำนวน 30 ตำแหน่ง ระหว่างวันที่ 12 ต.ค. 2561 – 28 ธ.ค. 2561 ผู้ที่ได้รับคัดเลือกจะได้บรรจุในตำแหน่งนักพัฒนาระบบราชการ ตั้งแต่วันที่ 1 พ.ค. 2562 โดยจะได้เรียนรู้ด้านวิชาการกับคณาจารย์ผู้ทรงคุณวุฒิ และฝึกปฏิบัติราชการภายใต้การสอนงานของปลัดกระทรวง อธิบดี เอกอัครราชทูต/กงสุลใหญ่ ผู้ว่าราชการจังหวัด ผู้บริหารภาคเอกชน เป็นระยะเวลา 22 เดือน ก่อนที่จะเลือกไปปฏิบัติงานยังกระทรวง กรมต่างๆ \\n\\nโอกาสที่ได้รับจากการเป็น นปร.\\nโครงการพัฒนานักบริหารการเปลี่ยนแปลงรุ่นใหม่ เน้นการฝึกปฏิบัติราชการมากกว่าการเรียนรู้ทางวิชาการ จึงเป็นหลักสูตรที่เปิดโอกาสให้ได้รับประสบการณ์ตรงทั้งในประเทศและต่างประเทศ ทั้งยังมีโอกาสแลกเปลี่ยนแนวคิดและประสบการณ์กับผู้ทรงคุณวุฒิและผู้เข้าร่วมโครงการด้วยกัน ถือเป็นโครงการที่น่าสนใจและเป็นทางเลือกหนึ่งสำหรับคนรุ่นใหม่ที่อยากเข้ามาร่วมพัฒนาระบบราชการ\\n\\nคุณสมบัติของผู้สมัคร\\n- ปริญญาโท อายุไม่เกิน 30 ปีบริบูรณ์ นับถึงวันปิดรับสมัคร\\n- ปริญญาเอก อายุไม่เกิน 35 ปีบริบูรณ์ นับถึงวันปิดรับสมัคร\\nไม่จำกัดสาขาวิชา จากสถาบันการศึกษาในประเทศ หรือต่างประเทศที่ ก.พ. รับรอง\\n \\nหลักฐาน และเอกสารประกอบการสมัคร\\n1. รูปผู้สมัครหน้าตรง ไม่สวมหมวก ไม่สวมแว่นตาดำ ขนาด 1 นิ้ว ที่ถ่ายมาแล้วไม่เกิน 6 เดือน \\n2. ใบแสดงผลการสอบ TOEFL และ/หรือ IELTS และ/หรือ CU-TEP (ถ้ามี) ในกรณีไม่สอบภาษาอังกฤษ มีผลทดสอบตั้งแต่วันที่ 28 ธันวาคม 2559 เป็นต้นไป\\n\\nดาวน์โหลดใบสมัครทางเว็บไซต์ www.opdc.go.th  หรือ www.igpthai.org\\n\\nสมัครทางอินเตอร์เน็ต ได้ที่ https://opdc.thaijobjob.com\\n\\nสนใจสอบถามรายละเอียดเพิ่มเติมได้ที่ สำนักงาน ก.พ.ร. โทร 0 2356 9999 ต่อ 8842, 8825, 8928 http://www.opdc.go.th หรือ สถาบันส่งเสริมการบริหารกิจการบ้านเมืองทีดี สำนักงาน ก.พ.ร. โทร 0 2141 9015 – 18  http://www.igpthai.org หรือสมัครทางอินเทอร์เน็ต ได้ที่ https://opdc.thaijobjob.com ตามเงื่อนไขที่กำหนดในประกาศรับสมัคร\\n\\n\\n ',\n",
       "  'คุณสมบัติ\\n• Bachelor / Master’s degree in Business, Finance, Accounting, Engineering, Science or other related\\n• At least 2 years of Commercial Banking / Corporate Banking experience with strong credit skills\\n• Strong analytical skills and knowledge of Financial Accounting\\n• Good selling and client relationship skills.\\n• Highly motivated\\n• Available to work at Nakhon Ratchasima, Amata Nakorn, Phuket is an advantage\\n '],\n",
       " ['ประเภทของงาน : งานประจำ\\nจำนวน : 30 อัตรา\\nเพศ : ไม่ระบุ\\nเงินเดือน(บาท) : ขึ้นอยู่กับคุณสมบัติและประสบการณ์\\nประสบการณ์ : 0 - 10 ปี\\nสถานที่ : กรุงเทพและปริมณฑล\\nการศึกษา : ปริญญาโทหรือสูงกว่า',\n",
       "  'ประเภทของงาน : งานประจำ\\nจำนวน : ไม่ระบุ\\nเพศ : ชาย/หญิง\\nเงินเดือน(บาท) : สามารถเจรจาต่อรองได้\\nประสบการณ์ : 2 - 5 ปี\\nสถานที่ : กรุงเทพและปริมณฑล\\nการศึกษา : ปริญญาตรีหรือปริญญาโท\\nคณะ : วิศวกรรมศาสตร์\\nคณะ : วิทยาศาสตร์\\nคณะ : บริหารธุรกิจ\\nคณะ : การเงิน\\nคณะ : บัญชี'],\n",
       " ['เกี่ยวกับบริษัท\\nโครงการพัฒนานักบริหารการเปลี่ยนแปลงรุ่นใหม่ หรือ โครงการ นปร. โครงการพัฒนานักบริหารการเปลี่ยนแปลงรุ่นใหม่ เป็นเรื่องของการบริหารคนเก่ง Talent Management คือนำคนที่มีศักยภาพสูงมาเติมเต็มในส่วนที่เขาขาด คนรุ่นใหม่มักจะขาดในเรื่องประสบการณ์ ทักษะการทำงาน จึงนับเป็นโอกาสที่ดีสำหรับผู้เข้าร่วมโครงการ นปร. คือ มีโอกาสฝึกงานในหลายๆ หน่วยงาน ทั้งในระดับจังหวัด สถานเอกอัครราชทูตในต่างประเทศ กระทรวง ทบวง กรมต่างๆ ตลอดจนหน่วยงานภาคเอกชน ซึ่งจะช่วยทำให้เขานั้นบรรลุตามเจตนารมณ์ คือ เป็นนักคิดที่มีวิสัยทัศน์ นักปฏิบัติที่สามารถปฏิบัติได้จริง\\n\\nโครงการ นปร. มีแนวคิดของหลักสูตรเนื่องจากว่า ปัจจุบันหลักสูตรการเรียนการสอนของสถาบันอุดมศึกษาไม่ได้มีวัตถุประสงค์หลักเพื่อทำการฝึกหัดข้าราชการฝ่ายพลเรือนเป็นการเฉพาะ และผู้สำเร็จการศึกษาเองไม่นิยมในการสมัครเข้ารับราชการเช่นในอดีต ประกอบกับปัญหาระบบราชการไทยที่ไม่ได้มีการจัดเตรียมและพัฒนาข้าราชการอย่างเป็นระบบ โดยเฉพาะการสอนงานเพื่อถ่ายทอดความรู้และประสบการณ์รวมถึงการฝึกปฏิบัติในสถานการณ์จริง สำนักงาน ก.พ.ร. จึงได้จัดให้มีโครงการพัฒนานักบริหารการเปลี่ยนแปลงรุ่นใหม่ขึ้นหรือที่เรียกย่อ ๆ ว่า นปร. เพื่อสรรหาและคัดเลือกบุคคลที่มีความรู้ ความสามารถ และสมรรถนะสูงเข้ารับราชการ โดยเปิดโครงการ นปร รุ่นแรกในปี พ.ศ. 2548 และปัจจุบันนี้เปิดดำเนินการมาแล้ว 12 รุ่น\\n\\nสนใจสอบถามรายละเอียดเพิ่มเติมได้ที่ สำนักงาน ก.พ.ร. โทร 0 2356 9999 ต่อ8842, 8928, 8825 และ 9937 http://www.opdc.go.th หรือสถาบันส่งเสริมการบริหารกิจการบ้านเมืองทีดี สำนักงาน ก.พ.ร. โทร 0 2141 9015 – 18  http://www.igpthai.org  หรือสมัครที่สำนักงาน ก.พ.ร. ทางไปรษณีย์ หรือทางอินเทอร์เน็ต ตามเงื่อนไขที่กำหนดในประกาศรับสมัคร\\n\\n...สร้างคนเก่ง พัฒนาคนดี ขับเคลื่อนประเทศไทยให้ก้าวหน้า…',\n",
       "  'เกี่ยวกับบริษัท\\nUnited Overseas Bank (Thai) Public Company Limited is a member of the United Overseas Bank Group, which aims to be a premier bank in the Asia – Pacific Region. With over 150 branches across Thailand, and supported by UOB Group’s extensive network of over 500 offices in 18 countries and territories, the Bank is well-positioned to play a significant role in the continued growth of the Thai economy and the banking & financial industry. We are seeking committed, energetic individuals who believe in being rewarded for performance, who want to grow in their careers, while at the same time, contribute to UOB’s exciting growth in Thailand.'])"
      ]
     },
     "execution_count": 32,
     "metadata": {},
     "output_type": "execute_result"
    }
   ],
   "source": [
    "clickelem(df.url[1])"
   ]
  },
  {
   "cell_type": "code",
   "execution_count": 7,
   "metadata": {},
   "outputs": [
    {
     "data": {
      "text/plain": [
       "(['27/11/2561', '27/11/2561'],\n",
       " ['หน่วยงานรัฐบาล', 'การเงิน/การธนาคาร/หลักทรัพย์'],\n",
       " ['NULL',\n",
       "  '• Acquire new customers in target industries/segments directly & through branches referral.\\n• Maintain & Deepen relationships for more business opportunities to increase account profitability.\\n• Prepare Account Plan / Strategy.\\n• Work closely with product partners to cross-sell other products to maximize the bank’s profit and gain greater share of wallet.\\n• Coordinate with UOB subsidiaries and/or UOBS for cross-border opportunities\\n• Ensure highest quality of services.\\n• Proper and adequate follow up on credit quality of portfolio to minimize NPL.'],\n",
       " ['NULL', 'NULL'],\n",
       " ['ประเภทของงาน : งานประจำ\\nจำนวน : 30 อัตรา\\nเพศ : ไม่ระบุ\\nเงินเดือน(บาท) : ขึ้นอยู่กับคุณสมบัติและประสบการณ์\\nประสบการณ์ : 0 - 10 ปี\\nสถานที่ : กรุงเทพและปริมณฑล\\nการศึกษา : ปริญญาโทหรือสูงกว่า',\n",
       "  'ประเภทของงาน : งานประจำ\\nจำนวน : ไม่ระบุ\\nเพศ : ชาย/หญิง\\nเงินเดือน(บาท) : สามารถเจรจาต่อรองได้\\nประสบการณ์ : 2 - 5 ปี\\nสถานที่ : กรุงเทพและปริมณฑล\\nการศึกษา : ปริญญาตรีหรือปริญญาโท\\nคณะ : วิศวกรรมศาสตร์\\nคณะ : วิทยาศาสตร์\\nคณะ : บริหารธุรกิจ\\nคณะ : การเงิน\\nคณะ : บัญชี'],\n",
       " ['เกี่ยวกับบริษัท\\nโครงการพัฒนานักบริหารการเปลี่ยนแปลงรุ่นใหม่ หรือ โครงการ นปร. โครงการพัฒนานักบริหารการเปลี่ยนแปลงรุ่นใหม่ เป็นเรื่องของการบริหารคนเก่ง Talent Management คือนำคนที่มีศักยภาพสูงมาเติมเต็มในส่วนที่เขาขาด คนรุ่นใหม่มักจะขาดในเรื่องประสบการณ์ ทักษะการทำงาน จึงนับเป็นโอกาสที่ดีสำหรับผู้เข้าร่วมโครงการ นปร. คือ มีโอกาสฝึกงานในหลายๆ หน่วยงาน ทั้งในระดับจังหวัด สถานเอกอัครราชทูตในต่างประเทศ กระทรวง ทบวง กรมต่างๆ ตลอดจนหน่วยงานภาคเอกชน ซึ่งจะช่วยทำให้เขานั้นบรรลุตามเจตนารมณ์ คือ เป็นนักคิดที่มีวิสัยทัศน์ นักปฏิบัติที่สามารถปฏิบัติได้จริง\\n\\nโครงการ นปร. มีแนวคิดของหลักสูตรเนื่องจากว่า ปัจจุบันหลักสูตรการเรียนการสอนของสถาบันอุดมศึกษาไม่ได้มีวัตถุประสงค์หลักเพื่อทำการฝึกหัดข้าราชการฝ่ายพลเรือนเป็นการเฉพาะ และผู้สำเร็จการศึกษาเองไม่นิยมในการสมัครเข้ารับราชการเช่นในอดีต ประกอบกับปัญหาระบบราชการไทยที่ไม่ได้มีการจัดเตรียมและพัฒนาข้าราชการอย่างเป็นระบบ โดยเฉพาะการสอนงานเพื่อถ่ายทอดความรู้และประสบการณ์รวมถึงการฝึกปฏิบัติในสถานการณ์จริง สำนักงาน ก.พ.ร. จึงได้จัดให้มีโครงการพัฒนานักบริหารการเปลี่ยนแปลงรุ่นใหม่ขึ้นหรือที่เรียกย่อ ๆ ว่า นปร. เพื่อสรรหาและคัดเลือกบุคคลที่มีความรู้ ความสามารถ และสมรรถนะสูงเข้ารับราชการ โดยเปิดโครงการ นปร รุ่นแรกในปี พ.ศ. 2548 และปัจจุบันนี้เปิดดำเนินการมาแล้ว 12 รุ่น\\n\\nสนใจสอบถามรายละเอียดเพิ่มเติมได้ที่ สำนักงาน ก.พ.ร. โทร 0 2356 9999 ต่อ8842, 8928, 8825 และ 9937 http://www.opdc.go.th หรือสถาบันส่งเสริมการบริหารกิจการบ้านเมืองทีดี สำนักงาน ก.พ.ร. โทร 0 2141 9015 – 18  http://www.igpthai.org  หรือสมัครที่สำนักงาน ก.พ.ร. ทางไปรษณีย์ หรือทางอินเทอร์เน็ต ตามเงื่อนไขที่กำหนดในประกาศรับสมัคร\\n\\n...สร้างคนเก่ง พัฒนาคนดี ขับเคลื่อนประเทศไทยให้ก้าวหน้า…',\n",
       "  'เกี่ยวกับบริษัท\\nUnited Overseas Bank (Thai) Public Company Limited is a member of the United Overseas Bank Group, which aims to be a premier bank in the Asia – Pacific Region. With over 150 branches across Thailand, and supported by UOB Group’s extensive network of over 500 offices in 18 countries and territories, the Bank is well-positioned to play a significant role in the continued growth of the Thai economy and the banking & financial industry. We are seeking committed, energetic individuals who believe in being rewarded for performance, who want to grow in their careers, while at the same time, contribute to UOB’s exciting growth in Thailand.'])"
      ]
     },
     "execution_count": 7,
     "metadata": {},
     "output_type": "execute_result"
    }
   ],
   "source": [
    "clickelem(df.url[1])"
   ]
  },
  {
   "cell_type": "code",
   "execution_count": 32,
   "metadata": {},
   "outputs": [
    {
     "data": {
      "text/plain": [
       "(['27/11/2561'],\n",
       " ['การเงิน/การธนาคาร/หลักทรัพย์'],\n",
       " ['หน้าที่และความรับผิดชอบ\\n• Acquire new customers in target industries/segments directly & through branches referral.\\n• Maintain & Deepen relationships for more business opportunities to increase account profitability.\\n• Prepare Account Plan / Strategy.\\n• Work closely with product partners to cross-sell other products to maximize the bank’s profit and gain greater share of wallet.\\n• Coordinate with UOB subsidiaries and/or UOBS for cross-border opportunities\\n• Ensure highest quality of services.\\n• Proper and adequate follow up on credit quality of portfolio to minimize NPL.'],\n",
       " ['NULL'],\n",
       " ['ประเภทของงาน : งานประจำ\\nจำนวน : ไม่ระบุ\\nเพศ : ชาย/หญิง\\nเงินเดือน(บาท) : สามารถเจรจาต่อรองได้\\nประสบการณ์ : 2 - 5 ปี\\nสถานที่ : กรุงเทพและปริมณฑล\\nการศึกษา : ปริญญาตรีหรือปริญญาโท\\nคณะ : วิศวกรรมศาสตร์\\nคณะ : วิทยาศาสตร์\\nคณะ : บริหารธุรกิจ\\nคณะ : การเงิน\\nคณะ : บัญชี'],\n",
       " ['เกี่ยวกับบริษัท\\nUnited Overseas Bank (Thai) Public Company Limited is a member of the United Overseas Bank Group, which aims to be a premier bank in the Asia – Pacific Region. With over 150 branches across Thailand, and supported by UOB Group’s extensive network of over 500 offices in 18 countries and territories, the Bank is well-positioned to play a significant role in the continued growth of the Thai economy and the banking & financial industry. We are seeking committed, energetic individuals who believe in being rewarded for performance, who want to grow in their careers, while at the same time, contribute to UOB’s exciting growth in Thailand.'])"
      ]
     },
     "execution_count": 32,
     "metadata": {},
     "output_type": "execute_result"
    }
   ],
   "source": [
    "clickelem(df.url[1])"
   ]
  },
  {
   "cell_type": "code",
   "execution_count": 5,
   "metadata": {},
   "outputs": [],
   "source": [
    "driver = webdriver.Firefox()\n",
    "driver.get(df.url[1])"
   ]
  },
  {
   "cell_type": "code",
   "execution_count": 34,
   "metadata": {},
   "outputs": [
    {
     "data": {
      "text/plain": [
       "['การเงิน/การธนาคาร/หลักทรัพย์']"
      ]
     },
     "execution_count": 34,
     "metadata": {},
     "output_type": "execute_result"
    }
   ],
   "source": [
    "firmTypeList"
   ]
  },
  {
   "cell_type": "code",
   "execution_count": 58,
   "metadata": {},
   "outputs": [
    {
     "data": {
      "text/plain": [
       "'หน่วยงานรัฐบาล'"
      ]
     },
     "execution_count": 58,
     "metadata": {},
     "output_type": "execute_result"
    }
   ],
   "source": [
    "firmType = driver.find_element_by_xpath('/html/body/div[5]/div[4]/div[1]/div[2]/div[2]/div/div/div[2]/div/div[2]/div/div[2]/div[1]/div[10]/table/tbody/tr/td[2]/span')\n",
    "firmType.text"
   ]
  },
  {
   "cell_type": "code",
   "execution_count": 39,
   "metadata": {},
   "outputs": [
    {
     "ename": "NoSuchElementException",
     "evalue": "Message: Unable to locate element: //*[@id=\"jobDescriptionWithHeader\"]\n",
     "output_type": "error",
     "traceback": [
      "\u001b[0;31m---------------------------------------------------------------------------\u001b[0m",
      "\u001b[0;31mNoSuchElementException\u001b[0m                    Traceback (most recent call last)",
      "\u001b[0;32m<ipython-input-39-d80e5f3e8e74>\u001b[0m in \u001b[0;36m<module>\u001b[0;34m\u001b[0m\n\u001b[0;32m----> 1\u001b[0;31m \u001b[0mjd\u001b[0m \u001b[0;34m=\u001b[0m \u001b[0mdriver\u001b[0m\u001b[0;34m.\u001b[0m\u001b[0mfind_element_by_xpath\u001b[0m\u001b[0;34m(\u001b[0m\u001b[0;34m'//*[@id=\"jobDescriptionWithHeader\"]'\u001b[0m\u001b[0;34m)\u001b[0m\u001b[0;34m\u001b[0m\u001b[0m\n\u001b[0m",
      "\u001b[0;32m~/anaconda3/lib/python3.6/site-packages/selenium/webdriver/remote/webdriver.py\u001b[0m in \u001b[0;36mfind_element_by_xpath\u001b[0;34m(self, xpath)\u001b[0m\n\u001b[1;32m    392\u001b[0m             \u001b[0melement\u001b[0m \u001b[0;34m=\u001b[0m \u001b[0mdriver\u001b[0m\u001b[0;34m.\u001b[0m\u001b[0mfind_element_by_xpath\u001b[0m\u001b[0;34m(\u001b[0m\u001b[0;34m'//div/td[1]'\u001b[0m\u001b[0;34m)\u001b[0m\u001b[0;34m\u001b[0m\u001b[0m\n\u001b[1;32m    393\u001b[0m         \"\"\"\n\u001b[0;32m--> 394\u001b[0;31m         \u001b[0;32mreturn\u001b[0m \u001b[0mself\u001b[0m\u001b[0;34m.\u001b[0m\u001b[0mfind_element\u001b[0m\u001b[0;34m(\u001b[0m\u001b[0mby\u001b[0m\u001b[0;34m=\u001b[0m\u001b[0mBy\u001b[0m\u001b[0;34m.\u001b[0m\u001b[0mXPATH\u001b[0m\u001b[0;34m,\u001b[0m \u001b[0mvalue\u001b[0m\u001b[0;34m=\u001b[0m\u001b[0mxpath\u001b[0m\u001b[0;34m)\u001b[0m\u001b[0;34m\u001b[0m\u001b[0m\n\u001b[0m\u001b[1;32m    395\u001b[0m \u001b[0;34m\u001b[0m\u001b[0m\n\u001b[1;32m    396\u001b[0m     \u001b[0;32mdef\u001b[0m \u001b[0mfind_elements_by_xpath\u001b[0m\u001b[0;34m(\u001b[0m\u001b[0mself\u001b[0m\u001b[0;34m,\u001b[0m \u001b[0mxpath\u001b[0m\u001b[0;34m)\u001b[0m\u001b[0;34m:\u001b[0m\u001b[0;34m\u001b[0m\u001b[0m\n",
      "\u001b[0;32m~/anaconda3/lib/python3.6/site-packages/selenium/webdriver/remote/webdriver.py\u001b[0m in \u001b[0;36mfind_element\u001b[0;34m(self, by, value)\u001b[0m\n\u001b[1;32m    976\u001b[0m         return self.execute(Command.FIND_ELEMENT, {\n\u001b[1;32m    977\u001b[0m             \u001b[0;34m'using'\u001b[0m\u001b[0;34m:\u001b[0m \u001b[0mby\u001b[0m\u001b[0;34m,\u001b[0m\u001b[0;34m\u001b[0m\u001b[0m\n\u001b[0;32m--> 978\u001b[0;31m             'value': value})['value']\n\u001b[0m\u001b[1;32m    979\u001b[0m \u001b[0;34m\u001b[0m\u001b[0m\n\u001b[1;32m    980\u001b[0m     \u001b[0;32mdef\u001b[0m \u001b[0mfind_elements\u001b[0m\u001b[0;34m(\u001b[0m\u001b[0mself\u001b[0m\u001b[0;34m,\u001b[0m \u001b[0mby\u001b[0m\u001b[0;34m=\u001b[0m\u001b[0mBy\u001b[0m\u001b[0;34m.\u001b[0m\u001b[0mID\u001b[0m\u001b[0;34m,\u001b[0m \u001b[0mvalue\u001b[0m\u001b[0;34m=\u001b[0m\u001b[0;32mNone\u001b[0m\u001b[0;34m)\u001b[0m\u001b[0;34m:\u001b[0m\u001b[0;34m\u001b[0m\u001b[0m\n",
      "\u001b[0;32m~/anaconda3/lib/python3.6/site-packages/selenium/webdriver/remote/webdriver.py\u001b[0m in \u001b[0;36mexecute\u001b[0;34m(self, driver_command, params)\u001b[0m\n\u001b[1;32m    319\u001b[0m         \u001b[0mresponse\u001b[0m \u001b[0;34m=\u001b[0m \u001b[0mself\u001b[0m\u001b[0;34m.\u001b[0m\u001b[0mcommand_executor\u001b[0m\u001b[0;34m.\u001b[0m\u001b[0mexecute\u001b[0m\u001b[0;34m(\u001b[0m\u001b[0mdriver_command\u001b[0m\u001b[0;34m,\u001b[0m \u001b[0mparams\u001b[0m\u001b[0;34m)\u001b[0m\u001b[0;34m\u001b[0m\u001b[0m\n\u001b[1;32m    320\u001b[0m         \u001b[0;32mif\u001b[0m \u001b[0mresponse\u001b[0m\u001b[0;34m:\u001b[0m\u001b[0;34m\u001b[0m\u001b[0m\n\u001b[0;32m--> 321\u001b[0;31m             \u001b[0mself\u001b[0m\u001b[0;34m.\u001b[0m\u001b[0merror_handler\u001b[0m\u001b[0;34m.\u001b[0m\u001b[0mcheck_response\u001b[0m\u001b[0;34m(\u001b[0m\u001b[0mresponse\u001b[0m\u001b[0;34m)\u001b[0m\u001b[0;34m\u001b[0m\u001b[0m\n\u001b[0m\u001b[1;32m    322\u001b[0m             response['value'] = self._unwrap_value(\n\u001b[1;32m    323\u001b[0m                 response.get('value', None))\n",
      "\u001b[0;32m~/anaconda3/lib/python3.6/site-packages/selenium/webdriver/remote/errorhandler.py\u001b[0m in \u001b[0;36mcheck_response\u001b[0;34m(self, response)\u001b[0m\n\u001b[1;32m    240\u001b[0m                 \u001b[0malert_text\u001b[0m \u001b[0;34m=\u001b[0m \u001b[0mvalue\u001b[0m\u001b[0;34m[\u001b[0m\u001b[0;34m'alert'\u001b[0m\u001b[0;34m]\u001b[0m\u001b[0;34m.\u001b[0m\u001b[0mget\u001b[0m\u001b[0;34m(\u001b[0m\u001b[0;34m'text'\u001b[0m\u001b[0;34m)\u001b[0m\u001b[0;34m\u001b[0m\u001b[0m\n\u001b[1;32m    241\u001b[0m             \u001b[0;32mraise\u001b[0m \u001b[0mexception_class\u001b[0m\u001b[0;34m(\u001b[0m\u001b[0mmessage\u001b[0m\u001b[0;34m,\u001b[0m \u001b[0mscreen\u001b[0m\u001b[0;34m,\u001b[0m \u001b[0mstacktrace\u001b[0m\u001b[0;34m,\u001b[0m \u001b[0malert_text\u001b[0m\u001b[0;34m)\u001b[0m\u001b[0;34m\u001b[0m\u001b[0m\n\u001b[0;32m--> 242\u001b[0;31m         \u001b[0;32mraise\u001b[0m \u001b[0mexception_class\u001b[0m\u001b[0;34m(\u001b[0m\u001b[0mmessage\u001b[0m\u001b[0;34m,\u001b[0m \u001b[0mscreen\u001b[0m\u001b[0;34m,\u001b[0m \u001b[0mstacktrace\u001b[0m\u001b[0;34m)\u001b[0m\u001b[0;34m\u001b[0m\u001b[0m\n\u001b[0m\u001b[1;32m    243\u001b[0m \u001b[0;34m\u001b[0m\u001b[0m\n\u001b[1;32m    244\u001b[0m     \u001b[0;32mdef\u001b[0m \u001b[0m_value_or_default\u001b[0m\u001b[0;34m(\u001b[0m\u001b[0mself\u001b[0m\u001b[0;34m,\u001b[0m \u001b[0mobj\u001b[0m\u001b[0;34m,\u001b[0m \u001b[0mkey\u001b[0m\u001b[0;34m,\u001b[0m \u001b[0mdefault\u001b[0m\u001b[0;34m)\u001b[0m\u001b[0;34m:\u001b[0m\u001b[0;34m\u001b[0m\u001b[0m\n",
      "\u001b[0;31mNoSuchElementException\u001b[0m: Message: Unable to locate element: //*[@id=\"jobDescriptionWithHeader\"]\n"
     ]
    }
   ],
   "source": [
    "jd = driver.find_element_by_xpath('//*[@id=\"jobDescriptionWithHeader\"]')"
   ]
  },
  {
   "cell_type": "code",
   "execution_count": null,
   "metadata": {},
   "outputs": [],
   "source": [
    "jd.text"
   ]
  },
  {
   "cell_type": "code",
   "execution_count": 40,
   "metadata": {},
   "outputs": [
    {
     "data": {
      "text/plain": [
       "'คุณสมบัติ\\n\\nสำนักงานคณะกรรมการพัฒนาระบบราชการ (สำนักงาน ก.พ.ร.) เปิดรับสมัครคัดเลือกบุคคลเพื่อเข้ารับราชการภายใต้โครงการพัฒนานักบริหารการเปลี่ยนแปลงรุ่นใหม่ (นปร.) รุ่นที่ 13 จำนวน 30 ตำแหน่ง ระหว่างวันที่ 12 ต.ค. 2561 – 28 ธ.ค. 2561 ผู้ที่ได้รับคัดเลือกจะได้บรรจุในตำแหน่งนักพัฒนาระบบราชการ ตั้งแต่วันที่ 1 พ.ค. 2562 โดยจะได้เรียนรู้ด้านวิชาการกับคณาจารย์ผู้ทรงคุณวุฒิ และฝึกปฏิบัติราชการภายใต้การสอนงานของปลัดกระทรวง อธิบดี เอกอัครราชทูต/กงสุลใหญ่ ผู้ว่าราชการจังหวัด ผู้บริหารภาคเอกชน เป็นระยะเวลา 22 เดือน ก่อนที่จะเลือกไปปฏิบัติงานยังกระทรวง กรมต่างๆ \\n\\nโอกาสที่ได้รับจากการเป็น นปร.\\nโครงการพัฒนานักบริหารการเปลี่ยนแปลงรุ่นใหม่ เน้นการฝึกปฏิบัติราชการมากกว่าการเรียนรู้ทางวิชาการ จึงเป็นหลักสูตรที่เปิดโอกาสให้ได้รับประสบการณ์ตรงทั้งในประเทศและต่างประเทศ ทั้งยังมีโอกาสแลกเปลี่ยนแนวคิดและประสบการณ์กับผู้ทรงคุณวุฒิและผู้เข้าร่วมโครงการด้วยกัน ถือเป็นโครงการที่น่าสนใจและเป็นทางเลือกหนึ่งสำหรับคนรุ่นใหม่ที่อยากเข้ามาร่วมพัฒนาระบบราชการ\\n\\nคุณสมบัติของผู้สมัคร\\n- ปริญญาโท อายุไม่เกิน 30 ปีบริบูรณ์ นับถึงวันปิดรับสมัคร\\n- ปริญญาเอก อายุไม่เกิน 35 ปีบริบูรณ์ นับถึงวันปิดรับสมัคร\\nไม่จำกัดสาขาวิชา จากสถาบันการศึกษาในประเทศ หรือต่างประเทศที่ ก.พ. รับรอง\\n \\nหลักฐาน และเอกสารประกอบการสมัคร\\n1. รูปผู้สมัครหน้าตรง ไม่สวมหมวก ไม่สวมแว่นตาดำ ขนาด 1 นิ้ว ที่ถ่ายมาแล้วไม่เกิน 6 เดือน \\n2. ใบแสดงผลการสอบ TOEFL และ/หรือ IELTS และ/หรือ CU-TEP (ถ้ามี) ในกรณีไม่สอบภาษาอังกฤษ มีผลทดสอบตั้งแต่วันที่ 28 ธันวาคม 2559 เป็นต้นไป\\n\\nดาวน์โหลดใบสมัครทางเว็บไซต์ www.opdc.go.th  หรือ www.igpthai.org\\n\\nสมัครทางอินเตอร์เน็ต ได้ที่ https://opdc.thaijobjob.com\\n\\nสนใจสอบถามรายละเอียดเพิ่มเติมได้ที่ สำนักงาน ก.พ.ร. โทร 0 2356 9999 ต่อ 8842, 8825, 8928 http://www.opdc.go.th หรือ สถาบันส่งเสริมการบริหารกิจการบ้านเมืองทีดี สำนักงาน ก.พ.ร. โทร 0 2141 9015 – 18  http://www.igpthai.org หรือสมัครทางอินเทอร์เน็ต ได้ที่ https://opdc.thaijobjob.com ตามเงื่อนไขที่กำหนดในประกาศรับสมัคร\\n\\n\\n '"
      ]
     },
     "execution_count": 40,
     "metadata": {},
     "output_type": "execute_result"
    }
   ],
   "source": [
    "q = driver.find_element_by_xpath('//*[@id=\"qualificationWithHeader\"]')\n",
    "q.text"
   ]
  },
  {
   "cell_type": "code",
   "execution_count": 67,
   "metadata": {},
   "outputs": [],
   "source": [
    "requirements = driver.find_elements_by_xpath('//*[@id=\"basic_require\"]')"
   ]
  },
  {
   "cell_type": "code",
   "execution_count": 70,
   "metadata": {},
   "outputs": [
    {
     "name": "stdout",
     "output_type": "stream",
     "text": [
      "ประเภทของงาน : งานประจำ\n",
      "จำนวน : 30 อัตรา\n",
      "เพศ : ไม่ระบุ\n",
      "เงินเดือน(บาท) : ขึ้นอยู่กับคุณสมบัติและประสบการณ์\n",
      "ประสบการณ์ : 0 - 10 ปี\n",
      "สถานที่ : กรุงเทพและปริมณฑล\n",
      "การศึกษา : ปริญญาโทหรือสูงกว่า\n"
     ]
    }
   ],
   "source": [
    "req = ''\n",
    "for i in requirements:\n",
    "    req += ('\\n' + (i.text))\n",
    "print(req.strip())"
   ]
  },
  {
   "cell_type": "code",
   "execution_count": 35,
   "metadata": {},
   "outputs": [
    {
     "name": "stdout",
     "output_type": "stream",
     "text": [
      "เกี่ยวกับบริษัท\n",
      "โครงการพัฒนานักบริหารการเปลี่ยนแปลงรุ่นใหม่ หรือ โครงการ นปร. โครงการพัฒนานักบริหารการเปลี่ยนแปลงรุ่นใหม่ เป็นเรื่องของการบริหารคนเก่ง Talent Management คือนำคนที่มีศักยภาพสูงมาเติมเต็มในส่วนที่เขาขาด คนรุ่นใหม่มักจะขาดในเรื่องประสบการณ์ ทักษะการทำงาน จึงนับเป็นโอกาสที่ดีสำหรับผู้เข้าร่วมโครงการ นปร. คือ มีโอกาสฝึกงานในหลายๆ หน่วยงาน ทั้งในระดับจังหวัด สถานเอกอัครราชทูตในต่างประเทศ กระทรวง ทบวง กรมต่างๆ ตลอดจนหน่วยงานภาคเอกชน ซึ่งจะช่วยทำให้เขานั้นบรรลุตามเจตนารมณ์ คือ เป็นนักคิดที่มีวิสัยทัศน์ นักปฏิบัติที่สามารถปฏิบัติได้จริง\n",
      "\n",
      "โครงการ นปร. มีแนวคิดของหลักสูตรเนื่องจากว่า ปัจจุบันหลักสูตรการเรียนการสอนของสถาบันอุดมศึกษาไม่ได้มีวัตถุประสงค์หลักเพื่อทำการฝึกหัดข้าราชการฝ่ายพลเรือนเป็นการเฉพาะ และผู้สำเร็จการศึกษาเองไม่นิยมในการสมัครเข้ารับราชการเช่นในอดีต ประกอบกับปัญหาระบบราชการไทยที่ไม่ได้มีการจัดเตรียมและพัฒนาข้าราชการอย่างเป็นระบบ โดยเฉพาะการสอนงานเพื่อถ่ายทอดความรู้และประสบการณ์รวมถึงการฝึกปฏิบัติในสถานการณ์จริง สำนักงาน ก.พ.ร. จึงได้จัดให้มีโครงการพัฒนานักบริหารการเปลี่ยนแปลงรุ่นใหม่ขึ้นหรือที่เรียกย่อ ๆ ว่า นปร. เพื่อสรรหาและคัดเลือกบุคคลที่มีความรู้ ความสามารถ และสมรรถนะสูงเข้ารับราชการ โดยเปิดโครงการ นปร รุ่นแรกในปี พ.ศ. 2548 และปัจจุบันนี้เปิดดำเนินการมาแล้ว 12 รุ่น\n",
      "\n",
      "สนใจสอบถามรายละเอียดเพิ่มเติมได้ที่ สำนักงาน ก.พ.ร. โทร 0 2356 9999 ต่อ8842, 8928, 8825 และ 9937 http://www.opdc.go.th หรือสถาบันส่งเสริมการบริหารกิจการบ้านเมืองทีดี สำนักงาน ก.พ.ร. โทร 0 2141 9015 – 18  http://www.igpthai.org  หรือสมัครที่สำนักงาน ก.พ.ร. ทางไปรษณีย์ หรือทางอินเทอร์เน็ต ตามเงื่อนไขที่กำหนดในประกาศรับสมัคร\n",
      "\n",
      "...สร้างคนเก่ง พัฒนาคนดี ขับเคลื่อนประเทศไทยให้ก้าวหน้า…\n"
     ]
    }
   ],
   "source": [
    "companyBg = driver.find_element_by_xpath('//*[@id=\"companyBackground\"]')\n",
    "print(companyBg.text)"
   ]
  },
  {
   "cell_type": "code",
   "execution_count": 41,
   "metadata": {},
   "outputs": [],
   "source": [
    "driver.quit()"
   ]
  },
  {
   "cell_type": "code",
   "execution_count": 12,
   "metadata": {},
   "outputs": [
    {
     "name": "stdout",
     "output_type": "stream",
     "text": [
      "คุณสมบัติ\n",
      "• Bachelor / Master’s degree in Business, Finance, Accounting, Engineering, Science or other related\n",
      "• At least 2 years of Commercial Banking / Corporate Banking experience with strong credit skills\n",
      "• Strong analytical skills and knowledge of Financial Accounting\n",
      "• Good selling and client relationship skills.\n",
      "• Highly motivated\n",
      "• Available to work at Nakhon Ratchasima, Amata Nakorn, Phuket is an advantage\n",
      " \n"
     ]
    }
   ],
   "source": [
    "try:\n",
    "    jd = driver.find_element_by_xpath('//*[@id=\"qualificationWithHeader\"]')\n",
    "    print(jd.text)\n",
    "except:\n",
    "    print(\"NULL\")"
   ]
  },
  {
   "cell_type": "code",
   "execution_count": 9,
   "metadata": {},
   "outputs": [
    {
     "ename": "NameError",
     "evalue": "name 'driver' is not defined",
     "output_type": "error",
     "traceback": [
      "\u001b[0;31m---------------------------------------------------------------------------\u001b[0m",
      "\u001b[0;31mNameError\u001b[0m                                 Traceback (most recent call last)",
      "\u001b[0;32m<ipython-input-9-98c1d1d03bc7>\u001b[0m in \u001b[0;36m<module>\u001b[0;34m\u001b[0m\n\u001b[0;32m----> 1\u001b[0;31m \u001b[0mjd\u001b[0m \u001b[0;34m=\u001b[0m \u001b[0mdriver\u001b[0m\u001b[0;34m.\u001b[0m\u001b[0mfind_element_by_xpath\u001b[0m\u001b[0;34m(\u001b[0m\u001b[0;34m'//*[@id=\"qualificationWithHeader\"]'\u001b[0m\u001b[0;34m)\u001b[0m\u001b[0;34m\u001b[0m\u001b[0m\n\u001b[0m\u001b[1;32m      2\u001b[0m \u001b[0mprint\u001b[0m\u001b[0;34m(\u001b[0m\u001b[0mjd\u001b[0m\u001b[0;34m.\u001b[0m\u001b[0mtext\u001b[0m\u001b[0;34m)\u001b[0m\u001b[0;34m\u001b[0m\u001b[0m\n",
      "\u001b[0;31mNameError\u001b[0m: name 'driver' is not defined"
     ]
    }
   ],
   "source": [
    "jd = driver.find_element_by_xpath('//*[@id=\"qualificationWithHeader\"]')\n",
    "print(jd.text)"
   ]
  },
  {
   "cell_type": "code",
   "execution_count": null,
   "metadata": {},
   "outputs": [],
   "source": []
  },
  {
   "cell_type": "code",
   "execution_count": 12,
   "metadata": {},
   "outputs": [],
   "source": [
    "testweb = df.url[0]\n",
    "driver = webdriver.Firefox()\n",
    "driver.maximize_window()\n",
    "driver.get(testweb)\n",
    "driver.implicitly_wait(5)\n",
    "#cardSeeMore = driver.find_element_by_class_name('cardSeeMore')"
   ]
  },
  {
   "cell_type": "code",
   "execution_count": 14,
   "metadata": {},
   "outputs": [],
   "source": [
    "driver.quit()"
   ]
  },
  {
   "cell_type": "code",
   "execution_count": 4,
   "metadata": {},
   "outputs": [
    {
     "data": {
      "text/plain": [
       "0     https://www.jobtopgun.com/%E0%B8%AB%E0%B8%B2%E0%B8%87%E0%B8%B2%E0%B8%99/%E0%B9%82%E0%B8%84%E0%B8%A3%E0%B8%87%E0%B8%81%E0%B8%B2%E0%B8%A3%E0%B8%9E%E0%B8%B1%E0%B8%92%E0%B8%99%E0%B8%B2%E0%B8%99%E0%B8%B1%E0%B8%81%E0%B8%9A%E0%B8%A3%E0%B8%B4%E0%B8%AB%E0%B8%B2%E0%B8%A3%E0%B8%81%E0%B8%B2%E0%B8%A3%E0%B9%80%E0%B8%9B%E0%B8%A5%E0%B8%B5%E0%B9%88%E0%B8%A2%E0%B8%99%E0%B9%81%E0%B8%9B%E0%B8%A5%E0%B8%87%E0%B8%A3%E0%B8%B8%E0%B9%88%E0%B8%99%E0%B9%83%E0%B8%AB%E0%B8%A1%E0%B9%88-%E0%B8%99%E0%B8%9B%E0%B8%A3-%E0%B8%A3%E0%B8%B8%E0%B9%88%E0%B8%99%E0%B8%97%E0%B8%B5%E0%B9%88-13-**-%E0%B8%95%E0%B9%89%E0%B8%AD%E0%B8%87%E0%B8%AA%E0%B8%A1%E0%B8%B1%E0%B8%84%E0%B8%A3%E0%B8%95%E0%B8%A3%E0%B8%87%E0%B8%81%E0%B8%B1%E0%B8%9A%E0%B8%AA%E0%B8%B3%E0%B8%99%E0%B8%B1%E0%B8%81%E0%B8%87%E0%B8%B2%E0%B8%99-%E0%B8%81-%E0%B8%9E-%E0%B8%A3-%E0%B9%80%E0%B8%97%E0%B9%88%E0%B8%B2%E0%B8%99%E0%B8%B1%E0%B9%89%E0%B8%99-**%20-%20%E0%B8%AA%E0%B8%96%E0%B8%B2%E0%B8%9A%E0%B8%B1%E0%B8%99%E0%B8%AA%E0%B9%88%E0%B8%87%E0%B9%80%E0%B8%AA%E0%B8%A3%E0%B8%B4%E0%B8%A1%E0%B8%81%E0%B8%B2%E0%B8%A3%E0%B8%9A%E0%B8%A3%E0%B8%B4%E0%B8%AB%E0%B8%B2%E0%B8%A3%E0%B8%81%E0%B8%B4%E0%B8%88%E0%B8%81%E0%B8%B2%E0%B8%A3%E0%B8%9A%E0%B9%89%E0%B8%B2%E0%B8%99%E0%B9%80%E0%B8%A1%E0%B8%B7%E0%B8%AD%E0%B8%87%E0%B8%97%E0%B8%B5%E0%B9%88%E0%B8%94%E0%B8%B5-%E0%B8%AA%E0%B8%B3%E0%B8%99%E0%B8%B1%E0%B8%81%E0%B8%87%E0%B8%B2%E0%B8%99-%E0%B8%81-%E0%B8%9E-%E0%B8%A3-%E0%B8%AA%E0%B8%B3%E0%B8%99%E0%B8%B1%E0%B8%81%E0%B8%87%E0%B8%B2%E0%B8%99%E0%B8%84%E0%B8%93%E0%B8%B0%E0%B8%81%E0%B8%A3%E0%B8%A3%E0%B8%A1%E0%B8%81%E0%B8%B2%E0%B8%A3%E0%B8%9E%E0%B8%B1%E0%B8%92%E0%B8%99%E0%B8%B2%E0%B8%A3%E0%B8%B0%E0%B8%9A%E0%B8%9A%E0%B8%A3%E0%B8%B2%E0%B8%8A%E0%B8%81%E0%B8%B2%E0%B8%A3/jobpost/28545/3\n",
       "1     https://www.jobtopgun.com/%E0%B8%AB%E0%B8%B2%E0%B8%87%E0%B8%B2%E0%B8%99/relationship-manager-%E2%80%93-commercial-banking-for-up-country-nakhon-ratchasima-amata-nakorn-phuket%20-%20%E0%B8%98%E0%B8%99%E0%B8%B2%E0%B8%84%E0%B8%B2%E0%B8%A3%E0%B8%A2%E0%B8%B9%E0%B9%82%E0%B8%AD%E0%B8%9A%E0%B8%B5/jobpost/754/2117                                                                                                                                                                                                                                                                                                                                                                                                                                                                                                                                                                                                                                                                                                                                                                                                                                                                                                                                                                                                                                                                                                                                                                                                                                                                                                                                                                                                                                \n",
       "2     https://www.jobtopgun.com/%E0%B8%AB%E0%B8%B2%E0%B8%87%E0%B8%B2%E0%B8%99/trade-sales-avp-vp%20-%20%E0%B8%98%E0%B8%99%E0%B8%B2%E0%B8%84%E0%B8%B2%E0%B8%A3%E0%B8%A2%E0%B8%B9%E0%B9%82%E0%B8%AD%E0%B8%9A%E0%B8%B5/jobpost/754/2092                                                                                                                                                                                                                                                                                                                                                                                                                                                                                                                                                                                                                                                                                                                                                                                                                                                                                                                                                                                                                                                                                                                                                                                                                                                                                                                                                                                                                                                                                                                    \n",
       "3     https://www.jobtopgun.com/%E0%B8%AB%E0%B8%B2%E0%B8%87%E0%B8%B2%E0%B8%99/cash-management-sales-avp-vp%20-%20%E0%B8%98%E0%B8%99%E0%B8%B2%E0%B8%84%E0%B8%B2%E0%B8%A3%E0%B8%A2%E0%B8%B9%E0%B9%82%E0%B8%AD%E0%B8%9A%E0%B8%B5/jobpost/754/2090                                                                                                                                                                                                                                                                                                                                                                                                                                                                                                                                                                                                                                                                                                                                                                                                                                                                                                                                                                                                                                                                                                                                                                                                                                                                                                                                                                                                                                                                                                          \n",
       "4     https://www.jobtopgun.com/%E0%B8%AB%E0%B8%B2%E0%B8%87%E0%B8%B2%E0%B8%99/relationship-manager-sme%20-%20%E0%B8%98%E0%B8%99%E0%B8%B2%E0%B8%84%E0%B8%B2%E0%B8%A3%E0%B8%A2%E0%B8%B9%E0%B9%82%E0%B8%AD%E0%B8%9A%E0%B8%B5/jobpost/754/1771                                                                                                                                                                                                                                                                                                                                                                                                                                                                                                                                                                                                                                                                                                                                                                                                                                                                                                                                                                                                                                                                                                                                                                                                                                                                                                                                                                                                                                                                                                              \n",
       "5     https://www.jobtopgun.com/%E0%B8%AB%E0%B8%B2%E0%B8%87%E0%B8%B2%E0%B8%99/walk-in-interview-krungsri-call-center-agent-%E0%B8%A7%E0%B8%B1%E0%B8%99%E0%B8%A8%E0%B8%B8%E0%B8%81%E0%B8%A3%E0%B9%8C-%E0%B8%97%E0%B8%B5%E0%B9%88-30-%E0%B8%9E%E0%B8%A4%E0%B8%A8%E0%B8%88%E0%B8%B4%E0%B8%81%E0%B8%B2%E0%B8%A2%E0%B8%99-2561-%E0%B9%80%E0%B8%A7%E0%B8%A5%E0%B8%B2-09-00-16-00-%E0%B8%99%20-%20%E0%B8%98%E0%B8%99%E0%B8%B2%E0%B8%84%E0%B8%B2%E0%B8%A3%E0%B8%81%E0%B8%A3%E0%B8%B8%E0%B8%87%E0%B8%A8%E0%B8%A3%E0%B8%B5%E0%B8%AD%E0%B8%A2%E0%B8%B8%E0%B8%98%E0%B8%A2%E0%B8%B2/jobpost/3349/1345                                                                                                                                                                                                                                                                                                                                                                                                                                                                                                                                                                                                                                                                                                                                                                                                                                                                                                                                                                                                                                                                                                                                                                \n",
       "6     https://www.jobtopgun.com/%E0%B8%AB%E0%B8%B2%E0%B8%87%E0%B8%B2%E0%B8%99/%E0%B8%97%E0%B8%99%E0%B8%B2%E0%B8%A2%E0%B8%84%E0%B8%A7%E0%B8%B2%E0%B8%A1-%E0%B8%AA%E0%B8%B8%E0%B8%A3%E0%B8%B2%E0%B8%A9%E0%B8%8E%E0%B8%A3%E0%B9%8C%E0%B8%98%E0%B8%B2%E0%B8%99%E0%B8%B5%20-%20%E0%B8%98%E0%B8%99%E0%B8%B2%E0%B8%84%E0%B8%B2%E0%B8%A3%E0%B9%84%E0%B8%97%E0%B8%A2%E0%B8%9E%E0%B8%B2%E0%B8%93%E0%B8%B4%E0%B8%8A%E0%B8%A2%E0%B9%8C/jobpost/1807/1484                                                                                                                                                                                                                                                                                                                                                                                                                                                                                                                                                                                                                                                                                                                                                                                                                                                                                                                                                                                                                                                                                                                                                                                                                                                                                                            \n",
       "7     https://www.jobtopgun.com/%E0%B8%AB%E0%B8%B2%E0%B8%87%E0%B8%B2%E0%B8%99/mobile-developer%20-%20%E0%B8%9A%E0%B8%B8%E0%B8%8D%E0%B8%A3%E0%B8%AD%E0%B8%94%E0%B8%9A%E0%B8%A3%E0%B8%B4%E0%B8%A7%E0%B9%80%E0%B8%A7%E0%B8%AD%E0%B8%A3%E0%B8%B5%E0%B9%88/jobpost/2124/536                                                                                                                                                                                                                                                                                                                                                                                                                                                                                                                                                                                                                                                                                                                                                                                                                                                                                                                                                                                                                                                                                                                                                                                                                                                                                                                                                                                                                                                                                  \n",
       "8     https://www.jobtopgun.com/%E0%B8%AB%E0%B8%B2%E0%B8%87%E0%B8%B2%E0%B8%99/%E0%B8%9E%E0%B8%99%E0%B8%B1%E0%B8%81%E0%B8%87%E0%B8%B2%E0%B8%99%E0%B8%84%E0%B8%AD%E0%B8%A1%E0%B8%9E%E0%B8%B4%E0%B8%A7%E0%B9%80%E0%B8%95%E0%B8%AD%E0%B8%A3%E0%B9%8C-%E0%B8%A7%E0%B8%B8%E0%B8%92%E0%B8%B4-%E0%B8%9B%E0%B8%A7%E0%B8%AA%20-%20%E0%B8%9A%E0%B8%B8%E0%B8%8D%E0%B8%A3%E0%B8%AD%E0%B8%94%E0%B8%9A%E0%B8%A3%E0%B8%B4%E0%B8%A7%E0%B9%80%E0%B8%A7%E0%B8%AD%E0%B8%A3%E0%B8%B5%E0%B9%88/jobpost/24233/72                                                                                                                                                                                                                                                                                                                                                                                                                                                                                                                                                                                                                                                                                                                                                                                                                                                                                                                                                                                                                                                                                                                                                                                                                                                               \n",
       "9     https://www.jobtopgun.com/%E0%B8%AB%E0%B8%B2%E0%B8%87%E0%B8%B2%E0%B8%99/%E0%B8%8A%E0%B9%88%E0%B8%B2%E0%B8%87%E0%B9%84%E0%B8%9F%E0%B8%9F%E0%B9%89%E0%B8%B2%20-%20%E0%B8%9A%E0%B8%B8%E0%B8%8D%E0%B8%A3%E0%B8%AD%E0%B8%94%E0%B8%9A%E0%B8%A3%E0%B8%B4%E0%B8%A7%E0%B9%80%E0%B8%A7%E0%B8%AD%E0%B8%A3%E0%B8%B5%E0%B9%88/jobpost/24233/97                                                                                                                                                                                                                                                                                                                                                                                                                                                                                                                                                                                                                                                                                                                                                                                                                                                                                                                                                                                                                                                                                                                                                                                                                                                                                                                                                                                                                 \n",
       "10    https://www.jobtopgun.com/%E0%B8%AB%E0%B8%B2%E0%B8%87%E0%B8%B2%E0%B8%99/khmer-speaking-customer-service-agent%20-%20%E0%B8%97%E0%B8%B5%E0%B9%81%E0%B8%AD%E0%B8%A5%E0%B9%80%E0%B8%AD%E0%B8%AA%E0%B8%84%E0%B8%AD%E0%B8%99%E0%B9%81%E0%B8%97%E0%B8%84-%E0%B9%80%E0%B8%AD%E0%B9%87%E0%B8%99%E0%B9%80%E0%B8%97%E0%B8%AD%E0%B8%A3%E0%B9%8C%E0%B9%84%E0%B8%9E%E0%B8%A3%E0%B9%89%E0%B8%8B-%E0%B8%9B%E0%B8%A3%E0%B8%B0%E0%B9%80%E0%B8%97%E0%B8%A8%E0%B9%84%E0%B8%97%E0%B8%A2/jobpost/17694/18                                                                                                                                                                                                                                                                                                                                                                                                                                                                                                                                                                                                                                                                                                                                                                                                                                                                                                                                                                                                                                                                                                                                                                                                                                                              \n",
       "11    https://www.jobtopgun.com/%E0%B8%AB%E0%B8%B2%E0%B8%87%E0%B8%B2%E0%B8%99/%E0%B9%80%E0%B8%88%E0%B9%89%E0%B8%B2%E0%B8%AB%E0%B8%99%E0%B9%89%E0%B8%B2%E0%B8%97%E0%B8%B5%E0%B9%88%E0%B8%98%E0%B8%B8%E0%B8%A3%E0%B8%81%E0%B8%B2%E0%B8%A3%E0%B8%9D%E0%B9%88%E0%B8%B2%E0%B8%A2%E0%B8%82%E0%B8%B2%E0%B8%A2-%E0%B8%AA%E0%B8%B1%E0%B8%8D%E0%B8%8D%E0%B8%B2%E0%B8%88%E0%B9%89%E0%B8%B2%E0%B8%87-1-%E0%B8%9B%E0%B8%B5%20-%20%E0%B8%9A%E0%B8%B8%E0%B8%8D%E0%B8%A3%E0%B8%AD%E0%B8%94%E0%B8%9A%E0%B8%A3%E0%B8%B4%E0%B8%A7%E0%B9%80%E0%B8%A7%E0%B8%AD%E0%B8%A3%E0%B8%B5%E0%B9%88/jobpost/2124/534                                                                                                                                                                                                                                                                                                                                                                                                                                                                                                                                                                                                                                                                                                                                                                                                                                                                                                                                                                                                                                                                                                                                                                   \n",
       "12    https://www.jobtopgun.com/%E0%B8%AB%E0%B8%B2%E0%B8%87%E0%B8%B2%E0%B8%99/key-account-executive%20-%20%E0%B8%9A%E0%B8%B8%E0%B8%8D%E0%B8%A3%E0%B8%AD%E0%B8%94%E0%B8%9A%E0%B8%A3%E0%B8%B4%E0%B8%A7%E0%B9%80%E0%B8%A7%E0%B8%AD%E0%B8%A3%E0%B8%B5%E0%B9%88/jobpost/2124/537                                                                                                                                                                                                                                                                                                                                                                                                                                                                                                                                                                                                                                                                                                                                                                                                                                                                                                                                                                                                                                                                                                                                                                                                                                                                                                                                                                                                                                                                             \n",
       "13    https://www.jobtopgun.com/%E0%B8%AB%E0%B8%B2%E0%B8%87%E0%B8%B2%E0%B8%99/%E0%B9%80%E0%B8%88%E0%B9%89%E0%B8%B2%E0%B8%AB%E0%B8%99%E0%B9%89%E0%B8%B2%E0%B8%97%E0%B8%B5%E0%B9%88%E0%B8%82%E0%B8%B2%E0%B8%A2%20-%20%E0%B8%9A%E0%B8%B8%E0%B8%8D%E0%B8%A3%E0%B8%AD%E0%B8%94%E0%B8%9A%E0%B8%A3%E0%B8%B4%E0%B8%A7%E0%B9%80%E0%B8%A7%E0%B8%AD%E0%B8%A3%E0%B8%B5%E0%B9%88/jobpost/2124/533                                                                                                                                                                                                                                                                                                                                                                                                                                                                                                                                                                                                                                                                                                                                                                                                                                                                                                                                                                                                                                                                                                                                                                                                                                                                                                                                                                    \n",
       "14    https://www.jobtopgun.com/%E0%B8%AB%E0%B8%B2%E0%B8%87%E0%B8%B2%E0%B8%99/trade-marketing-manager-local-mt%20-%20%E0%B8%9A%E0%B8%B8%E0%B8%8D%E0%B8%A3%E0%B8%AD%E0%B8%94%E0%B8%9A%E0%B8%A3%E0%B8%B4%E0%B8%A7%E0%B9%80%E0%B8%A7%E0%B8%AD%E0%B8%A3%E0%B8%B5%E0%B9%88/jobpost/2124/538                                                                                                                                                                                                                                                                                                                                                                                                                                                                                                                                                                                                                                                                                                                                                                                                                                                                                                                                                                                                                                                                                                                                                                                                                                                                                                                                                                                                                                                                  \n",
       "15    https://www.jobtopgun.com/%E0%B8%AB%E0%B8%B2%E0%B8%87%E0%B8%B2%E0%B8%99/%E0%B9%80%E0%B8%88%E0%B9%89%E0%B8%B2%E0%B8%AB%E0%B8%99%E0%B9%89%E0%B8%B2%E0%B8%97%E0%B8%B5%E0%B9%88%E0%B8%AD%E0%B8%B2%E0%B8%A7%E0%B8%B8%E0%B9%82%E0%B8%AA-%E0%B8%9C%E0%B8%B9%E0%B9%89%E0%B8%8A%E0%B9%88%E0%B8%A7%E0%B8%A2%E0%B8%9C%E0%B8%B9%E0%B9%89%E0%B8%88%E0%B8%B1%E0%B8%94%E0%B8%81%E0%B8%B2%E0%B8%A3%E0%B8%AA%E0%B8%B1%E0%B8%8D%E0%B8%8D%E0%B8%B2%E0%B9%80%E0%B8%8A%E0%B9%88%E0%B8%B2%E0%B8%9E%E0%B8%B7%E0%B9%89%E0%B8%99%E0%B8%97%E0%B8%B5%E0%B9%88%20-%20%E0%B9%80%E0%B8%AD%E0%B9%87%E0%B8%A1%E0%B8%9A%E0%B8%B5%E0%B9%80%E0%B8%84/jobpost/2464/794                                                                                                                                                                                                                                                                                                                                                                                                                                                                                                                                                                                                                                                                                                                                                                                                                                                                                                                                                                                                                                                                                                                \n",
       "16    https://www.jobtopgun.com/%E0%B8%AB%E0%B8%B2%E0%B8%87%E0%B8%B2%E0%B8%99/programmer-system-engineer%20-%20%E0%B8%AD%E0%B8%B5%E0%B8%8B%E0%B8%B9%E0%B8%8B%E0%B8%B8%E0%B8%A1%E0%B8%AD%E0%B9%80%E0%B8%95%E0%B8%AD%E0%B8%A3%E0%B9%8C-%E0%B8%9B%E0%B8%A3%E0%B8%B0%E0%B9%80%E0%B8%97%E0%B8%A8%E0%B9%84%E0%B8%97%E0%B8%A2/jobpost/1309/123                                                                                                                                                                                                                                                                                                                                                                                                                                                                                                                                                                                                                                                                                                                                                                                                                                                                                                                                                                                                                                                                                                                                                                                                                                                                                                                                                                                                                 \n",
       "17    https://www.jobtopgun.com/%E0%B8%AB%E0%B8%B2%E0%B8%87%E0%B8%B2%E0%B8%99/material-control-planner-sr-level-%E2%80%93-bts-bearing%20-%20%E0%B8%A2%E0%B8%B9%E0%B9%81%E0%B8%97%E0%B8%84%E0%B9%84%E0%B8%97%E0%B8%A2/jobpost/52/586                                                                                                                                                                                                                                                                                                                                                                                                                                                                                                                                                                                                                                                                                                                                                                                                                                                                                                                                                                                                                                                                                                                                                                                                                                                                                                                                                                                                                                                                                                                     \n",
       "18    https://www.jobtopgun.com/%E0%B8%AB%E0%B8%B2%E0%B8%87%E0%B8%B2%E0%B8%99/instrumentation-engineer-for-application-software-spi-intools-base-in-rayong-offifice%20-%20%E0%B8%99%E0%B8%B5%E0%B8%AD%E0%B8%AD%E0%B8%99-%E0%B8%AD%E0%B8%B4%E0%B8%99%E0%B9%82%E0%B8%9F%E0%B9%80%E0%B8%97%E0%B8%84-%E0%B9%80%E0%B8%8B%E0%B8%B2%E0%B8%97%E0%B9%8C%E0%B8%AD%E0%B8%B5%E0%B8%AA%E0%B8%97%E0%B9%8C-%E0%B9%80%E0%B8%AD%E0%B9%80%E0%B8%8B%E0%B8%B5%E0%B8%A2/jobpost/6731/69                                                                                                                                                                                                                                                                                                                                                                                                                                                                                                                                                                                                                                                                                                                                                                                                                                                                                                                                                                                                                                                                                                                                                                                                                                                                                      \n",
       "19    https://www.jobtopgun.com/%E0%B8%AB%E0%B8%B2%E0%B8%87%E0%B8%B2%E0%B8%99/%E0%B8%9C%E0%B8%B9%E0%B9%89%E0%B8%8A%E0%B9%88%E0%B8%A7%E0%B8%A2%E0%B8%9C%E0%B8%B9%E0%B9%89%E0%B8%88%E0%B8%B1%E0%B8%94%E0%B8%81%E0%B8%B2%E0%B8%A3%E0%B8%AA%E0%B8%B2%E0%B8%82%E0%B8%B2-%E0%B9%82%E0%B8%97%E0%B8%A3-083-099-6716-%E0%B8%84%E0%B8%B8%E0%B8%93%E0%B8%99%E0%B8%B1%E0%B8%97-083-099-6041-%E0%B8%84%E0%B8%B8%E0%B8%93%E0%B9%81%E0%B8%9B%E0%B9%89%E0%B8%87-02-8361000-%E0%B8%95%E0%B9%88%E0%B8%AD-1220-1251%20-%20%E0%B9%80%E0%B8%AD%E0%B9%87%E0%B8%A1%E0%B9%80%E0%B8%84-%E0%B9%80%E0%B8%A3%E0%B8%AA%E0%B9%82%E0%B8%95%E0%B8%A3%E0%B8%AD%E0%B8%87%E0%B8%95%E0%B9%8C-%E0%B8%81%E0%B8%A3%E0%B8%B8%E0%B9%8A%E0%B8%9B-%E0%B9%80%E0%B8%AD%E0%B9%87%E0%B8%A1%E0%B9%80%E0%B8%84-%E0%B8%AD%E0%B8%B4%E0%B8%99%E0%B9%80%E0%B8%95%E0%B8%AD%E0%B8%A3%E0%B9%8C-%E0%B8%9F%E0%B8%B9%E0%B9%89%E0%B8%94/jobpost/7/398                                                                                                                                                                                                                                                                                                                                                                                                                                                                                                                                                                                                                                                                                                                                                                                                                                                               \n",
       "20    https://www.jobtopgun.com/%E0%B8%AB%E0%B8%B2%E0%B8%87%E0%B8%B2%E0%B8%99/key-account-representative-%E0%B8%9E%E0%B8%99%E0%B8%B1%E0%B8%81%E0%B8%87%E0%B8%B2%E0%B8%99%E0%B8%82%E0%B8%B2%E0%B8%A2%E0%B8%9D%E0%B9%88%E0%B8%B2%E0%B8%A2%E0%B8%82%E0%B8%B2%E0%B8%A2%E0%B9%82%E0%B8%A1%E0%B9%80%E0%B8%94%E0%B8%B4%E0%B8%A3%E0%B9%8C%E0%B8%99%E0%B9%80%E0%B8%97%E0%B8%A3%E0%B8%94%20-%20%E0%B9%80%E0%B8%9E%E0%B8%AD%E0%B8%A3%E0%B9%8C%E0%B9%80%E0%B8%9F%E0%B8%84-%E0%B8%84%E0%B8%AD%E0%B8%A1%E0%B8%9E%E0%B8%B2%E0%B9%80%E0%B8%99%E0%B8%B5%E0%B8%A2%E0%B8%99-%E0%B8%81%E0%B8%A3%E0%B8%B8%E0%B9%8A%E0%B8%9B/jobpost/696/126                                                                                                                                                                                                                                                                                                                                                                                                                                                                                                                                                                                                                                                                                                                                                                                                                                                                                                                                                                                                                                                                                                                                  \n",
       "21    https://www.jobtopgun.com/%E0%B8%AB%E0%B8%B2%E0%B8%87%E0%B8%B2%E0%B8%99/electrical-engineer%20-%20%E0%B8%9A%E0%B8%A3%E0%B8%B4%E0%B8%A9%E0%B8%B1%E0%B8%97-%E0%B8%84%E0%B8%B2%E0%B9%82%E0%B8%AD-%E0%B8%AD%E0%B8%B4%E0%B8%99%E0%B8%94%E0%B8%B1%E0%B8%AA%E0%B9%80%E0%B8%95%E0%B8%A3%E0%B8%B5%E0%B8%A2%E0%B8%A5-%E0%B8%9B%E0%B8%A3%E0%B8%B0%E0%B9%80%E0%B8%97%E0%B8%A8%E0%B9%84%E0%B8%97%E0%B8%A2-%E0%B8%88%E0%B8%B3%E0%B8%81%E0%B8%B1%E0%B8%94/jobpost/579/355                                                                                                                                                                                                                                                                                                                                                                                                                                                                                                                                                                                                                                                                                                                                                                                                                                                                                                                                                                                                                                                                                                                                                                                                                                                                                        \n",
       "22    https://www.jobtopgun.com/%E0%B8%AB%E0%B8%B2%E0%B8%87%E0%B8%B2%E0%B8%99/project-manager-system-analysis%20-%20%E0%B9%80%E0%B8%AD%E0%B8%9E%E0%B8%B5-%E0%B9%84%E0%B8%97%E0%B8%A2%E0%B9%81%E0%B8%A5%E0%B8%99%E0%B8%94%E0%B9%8C/jobpost/1631/569                                                                                                                                                                                                                                                                                                                                                                                                                                                                                                                                                                                                                                                                                                                                                                                                                                                                                                                                                                                                                                                                                                                                                                                                                                                                                                                                                                                                                                                                                                      \n",
       "23    https://www.jobtopgun.com/%E0%B8%AB%E0%B8%B2%E0%B8%87%E0%B8%B2%E0%B8%99/marketing-communication%20-%20%E0%B9%80%E0%B8%AD%E0%B8%9E%E0%B8%B5-%E0%B9%84%E0%B8%97%E0%B8%A2%E0%B9%81%E0%B8%A5%E0%B8%99%E0%B8%94%E0%B9%8C/jobpost/1631/553                                                                                                                                                                                                                                                                                                                                                                                                                                                                                                                                                                                                                                                                                                                                                                                                                                                                                                                                                                                                                                                                                                                                                                                                                                                                                                                                                                                                                                                                                                              \n",
       "24    https://www.jobtopgun.com/%E0%B8%AB%E0%B8%B2%E0%B8%87%E0%B8%B2%E0%B8%99/%E0%B9%80%E0%B8%88%E0%B9%89%E0%B8%B2%E0%B8%AB%E0%B8%99%E0%B9%89%E0%B8%B2%E0%B8%97%E0%B8%B5%E0%B9%88%E0%B8%98%E0%B8%B8%E0%B8%A3%E0%B8%81%E0%B8%B2%E0%B8%A3%E0%B8%9B%E0%B8%A3%E0%B8%B0%E0%B8%88%E0%B8%B3%E0%B8%AA%E0%B8%B3%E0%B8%99%E0%B8%B1%E0%B8%81%E0%B8%87%E0%B8%B2%E0%B8%99%20-%20%E0%B9%80%E0%B8%AD%E0%B8%9E%E0%B8%B5-%E0%B9%84%E0%B8%97%E0%B8%A2%E0%B9%81%E0%B8%A5%E0%B8%99%E0%B8%94%E0%B9%8C/jobpost/1631/570                                                                                                                                                                                                                                                                                                                                                                                                                                                                                                                                                                                                                                                                                                                                                                                                                                                                                                                                                                                                                                                                                                                                                                                                                                                       \n",
       "25    https://www.jobtopgun.com/%E0%B8%AB%E0%B8%B2%E0%B8%87%E0%B8%B2%E0%B8%99/project-manager-assistant-project-manager-%E0%B8%9A%E0%B9%89%E0%B8%B2%E0%B8%99%E0%B9%80%E0%B8%94%E0%B8%B5%E0%B9%88%E0%B8%A2%E0%B8%A7-%E0%B8%A1%E0%B8%B5%E0%B8%84%E0%B9%88%E0%B8%B2%E0%B9%81%E0%B8%99%E0%B8%B0%E0%B8%99%E0%B8%B3%E0%B9%80%E0%B8%9E%E0%B8%B7%E0%B9%88%E0%B8%AD%E0%B8%99%E0%B8%A1%E0%B8%B2%E0%B8%AA%E0%B8%A1%E0%B8%B1%E0%B8%84%E0%B8%A3%E0%B8%87%E0%B8%B2%E0%B8%99%E0%B8%AA%E0%B8%B9%E0%B8%87%E0%B8%AA%E0%B8%B8%E0%B8%94%E0%B8%96%E0%B8%B6%E0%B8%87-7-000-%E0%B8%9A%E0%B8%B2%E0%B8%97%20-%20%E0%B9%80%E0%B8%AD%E0%B8%9E%E0%B8%B5-%E0%B9%84%E0%B8%97%E0%B8%A2%E0%B9%81%E0%B8%A5%E0%B8%99%E0%B8%94%E0%B9%8C/jobpost/1631/416                                                                                                                                                                                                                                                                                                                                                                                                                                                                                                                                                                                                                                                                                                                                                                                                                                                                                                                                                                                                                                   \n",
       "26    https://www.jobtopgun.com/%E0%B8%AB%E0%B8%B2%E0%B8%87%E0%B8%B2%E0%B8%99/training-specialist-ap-academy%20-%20%E0%B9%80%E0%B8%AD%E0%B8%9E%E0%B8%B5-%E0%B9%84%E0%B8%97%E0%B8%A2%E0%B9%81%E0%B8%A5%E0%B8%99%E0%B8%94%E0%B9%8C/jobpost/1631/487                                                                                                                                                                                                                                                                                                                                                                                                                                                                                                                                                                                                                                                                                                                                                                                                                                                                                                                                                                                                                                                                                                                                                                                                                                                                                                                                                                                                                                                                                                       \n",
       "27    https://www.jobtopgun.com/%E0%B8%AB%E0%B8%B2%E0%B8%87%E0%B8%B2%E0%B8%99/%E0%B9%80%E0%B8%88%E0%B9%89%E0%B8%B2%E0%B8%AB%E0%B8%99%E0%B9%89%E0%B8%B2%E0%B8%97%E0%B8%B5%E0%B9%88%E0%B8%88%E0%B8%B1%E0%B8%94%E0%B8%8B%E0%B8%B7%E0%B9%89%E0%B8%AD%20-%20%E0%B9%80%E0%B8%AD%E0%B8%9E%E0%B8%B5-%E0%B9%84%E0%B8%97%E0%B8%A2%E0%B9%81%E0%B8%A5%E0%B8%99%E0%B8%94%E0%B9%8C/jobpost/1631/525                                                                                                                                                                                                                                                                                                                                                                                                                                                                                                                                                                                                                                                                                                                                                                                                                                                                                                                                                                                                                                                                                                                                                                                                                                                                                                                                                                   \n",
       "28    https://www.jobtopgun.com/%E0%B8%AB%E0%B8%B2%E0%B8%87%E0%B8%B2%E0%B8%99/site-engineer-%E0%B8%87%E0%B8%B2%E0%B8%99%E0%B8%9A%E0%B9%89%E0%B8%B2%E0%B8%99%E0%B9%80%E0%B8%94%E0%B8%B5%E0%B9%88%E0%B8%A2%E0%B8%A7-townhome%20-%20%E0%B9%80%E0%B8%AD%E0%B8%9E%E0%B8%B5-%E0%B9%84%E0%B8%97%E0%B8%A2%E0%B9%81%E0%B8%A5%E0%B8%99%E0%B8%94%E0%B9%8C/jobpost/1631/505                                                                                                                                                                                                                                                                                                                                                                                                                                                                                                                                                                                                                                                                                                                                                                                                                                                                                                                                                                                                                                                                                                                                                                                                                                                                                                                                                                                         \n",
       "29    https://www.jobtopgun.com/%E0%B8%AB%E0%B8%B2%E0%B8%87%E0%B8%B2%E0%B8%99/public-relations-officer%20-%20%E0%B9%80%E0%B8%AD%E0%B8%9E%E0%B8%B5-%E0%B9%84%E0%B8%97%E0%B8%A2%E0%B9%81%E0%B8%A5%E0%B8%99%E0%B8%94%E0%B9%8C/jobpost/1631/497                                                                                                                                                                                                                                                                                                                                                                                                                                                                                                                                                                                                                                                                                                                                                                                                                                                                                                                                                                                                                                                                                                                                                                                                                                                                                                                                                                                                                                                                                                             \n",
       "                                                                                                                      ...                                                                                                                                                                                                                                                                                                                                                                                                                                                                                                                                                                                                                                                                                                                                                                                                                                                                                                                                                                                                                                                                                                                                                                                                                                                                                                                                                                                                                                                                                                                                                                                                                               \n",
       "50    https://www.jobtopgun.com/%E0%B8%AB%E0%B8%B2%E0%B8%87%E0%B8%B2%E0%B8%99/%E0%B8%9C%E0%B8%B9%E0%B9%89%E0%B8%AD%E0%B8%B3%E0%B8%99%E0%B8%A7%E0%B8%A2%E0%B8%81%E0%B8%B2%E0%B8%A3%E0%B8%9D%E0%B9%88%E0%B8%B2%E0%B8%A2%E0%B8%81%E0%B8%B2%E0%B8%A3%E0%B8%95%E0%B8%A5%E0%B8%B2%E0%B8%94%E0%B8%9A%E0%B9%89%E0%B8%B2%E0%B8%99%E0%B9%81%E0%B8%A5%E0%B8%B0%E0%B8%84%E0%B8%AD%E0%B8%99%E0%B9%82%E0%B8%94%20-%20%E0%B9%80%E0%B8%AA%E0%B8%99%E0%B8%B2%E0%B8%94%E0%B8%B5%E0%B9%80%E0%B8%A7%E0%B8%A5%E0%B8%A5%E0%B8%AD%E0%B8%9B%E0%B9%80%E0%B8%A1%E0%B9%89%E0%B8%99%E0%B8%97%E0%B9%8C/jobpost/8326/89                                                                                                                                                                                                                                                                                                                                                                                                                                                                                                                                                                                                                                                                                                                                                                                                                                                                                                                                                                                                                                                                                                                                                               \n",
       "51    https://www.jobtopgun.com/%E0%B8%AB%E0%B8%B2%E0%B8%87%E0%B8%B2%E0%B8%99/macroeconomic-analyst%20-%20%E0%B8%9A%E0%B8%A3%E0%B8%B4%E0%B8%A9%E0%B8%B1%E0%B8%97-%E0%B8%AB%E0%B8%A5%E0%B8%B1%E0%B8%81%E0%B8%97%E0%B8%A3%E0%B8%B1%E0%B8%9E%E0%B8%A2%E0%B9%8C%E0%B8%88%E0%B8%B1%E0%B8%94%E0%B8%81%E0%B8%B2%E0%B8%A3%E0%B8%81%E0%B8%AD%E0%B8%87%E0%B8%97%E0%B8%B8%E0%B8%99-%E0%B8%81%E0%B8%A3%E0%B8%B8%E0%B8%87%E0%B9%84%E0%B8%97%E0%B8%A2-%E0%B8%88%E0%B8%B3%E0%B8%81%E0%B8%B1%E0%B8%94-%E0%B8%A1%E0%B8%AB%E0%B8%B2%E0%B8%8A%E0%B8%99/jobpost/18681/12                                                                                                                                                                                                                                                                                                                                                                                                                                                                                                                                                                                                                                                                                                                                                                                                                                                                                                                                                                                                                                                                                                                                                                                                    \n",
       "52    https://www.jobtopgun.com/%E0%B8%AB%E0%B8%B2%E0%B8%87%E0%B8%B2%E0%B8%99/%E0%B8%9E%E0%B8%99%E0%B8%B1%E0%B8%81%E0%B8%87%E0%B8%B2%E0%B8%99%E0%B8%9A%E0%B8%B1%E0%B8%8D%E0%B8%8A%E0%B8%B5%20-%20%E0%B8%AD%E0%B8%B5%E0%B9%80%E0%B8%A7%E0%B8%99%E0%B8%97%E0%B9%8C-%E0%B8%9A%E0%B8%B2%E0%B8%99%E0%B8%B2%E0%B8%99%E0%B9%88%E0%B8%B2/jobpost/29925/9                                                                                                                                                                                                                                                                                                                                                                                                                                                                                                                                                                                                                                                                                                                                                                                                                                                                                                                                                                                                                                                                                                                                                                                                                                                                                                                                                                                                        \n",
       "53    https://www.jobtopgun.com/%E0%B8%AB%E0%B8%B2%E0%B8%87%E0%B8%B2%E0%B8%99/senior-accountant-financial-analyst%20-%20%E0%B8%9E%E0%B8%A3%E0%B8%AD%E0%B8%9E%E0%B9%80%E0%B8%9E%E0%B8%AD%E0%B8%A3%E0%B9%8C%E0%B8%95%E0%B8%B5%E0%B9%89-%E0%B9%80%E0%B8%97%E0%B8%84%E0%B9%82%E0%B8%99%E0%B9%82%E0%B8%A5%E0%B8%A2%E0%B8%B5%E0%B9%88/jobpost/3559/383                                                                                                                                                                                                                                                                                                                                                                                                                                                                                                                                                                                                                                                                                                                                                                                                                                                                                                                                                                                                                                                                                                                                                                                                                                                                                                                                                                                                        \n",
       "54    https://www.jobtopgun.com/%E0%B8%AB%E0%B8%B2%E0%B8%87%E0%B8%B2%E0%B8%99/%E0%B9%80%E0%B8%88%E0%B9%89%E0%B8%B2%E0%B8%AB%E0%B8%99%E0%B9%89%E0%B8%B2%E0%B8%97%E0%B8%B3-motion-graphic-%E0%B9%81%E0%B8%A5%E0%B8%B0%E0%B8%95%E0%B8%B1%E0%B8%94%E0%B8%95%E0%B9%88%E0%B8%AD%E0%B8%A7%E0%B8%B4%E0%B8%94%E0%B8%B5%E0%B9%82%E0%B8%AD%20-%20%E0%B8%9A%E0%B8%A3%E0%B8%B4%E0%B8%A9%E0%B8%B1%E0%B8%97-%E0%B8%94%E0%B8%B5%E0%B8%99%E0%B8%B3%E0%B8%97%E0%B8%B4%E0%B8%A8-%E0%B9%84%E0%B8%AD%E0%B9%80%E0%B8%94%E0%B8%B5%E0%B8%A2-%E0%B8%88%E0%B8%B3%E0%B8%81%E0%B8%B1%E0%B8%94/jobpost/240041/1                                                                                                                                                                                                                                                                                                                                                                                                                                                                                                                                                                                                                                                                                                                                                                                                                                                                                                                                                                                                                                                                                                                                                                      \n",
       "55    https://www.jobtopgun.com/%E0%B8%AB%E0%B8%B2%E0%B8%87%E0%B8%B2%E0%B8%99/producer-%E0%B8%9C%E0%B8%A5%E0%B8%B4%E0%B8%95%E0%B8%A3%E0%B8%B2%E0%B8%A2%E0%B8%81%E0%B8%B2%E0%B8%A3%E0%B8%82%E0%B8%B2%E0%B8%A2%E0%B8%AA%E0%B8%B4%E0%B8%99%E0%B8%84%E0%B9%89%E0%B8%B2%E0%B8%97%E0%B8%B2%E0%B8%87%E0%B8%AD%E0%B8%AD%E0%B8%99%E0%B9%84%E0%B8%A5%E0%B8%99%E0%B9%8C-%E0%B8%9B%E0%B8%8F%E0%B8%B4%E0%B8%9A%E0%B8%B1%E0%B8%95%E0%B8%B4%E0%B8%87%E0%B8%B2%E0%B8%99%E0%B8%AA%E0%B8%B3%E0%B8%99%E0%B8%B1%E0%B8%81%E0%B8%87%E0%B8%B2%E0%B8%99%E0%B8%A1%E0%B8%B1%E0%B8%81%E0%B8%81%E0%B8%B0%E0%B8%AA%E0%B8%B1%E0%B8%99%20-%20%E0%B8%9E%E0%B8%A3%E0%B8%AD%E0%B8%9E%E0%B9%80%E0%B8%9E%E0%B8%AD%E0%B8%A3%E0%B9%8C%E0%B8%95%E0%B8%B5%E0%B9%89-%E0%B9%80%E0%B8%97%E0%B8%84%E0%B9%82%E0%B8%99%E0%B9%82%E0%B8%A5%E0%B8%A2%E0%B8%B5%E0%B9%88/jobpost/3559/382                                                                                                                                                                                                                                                                                                                                                                                                                                                                                                                                                                                                                                                                                                                                                                                                                                                                                                                  \n",
       "56    https://www.jobtopgun.com/%E0%B8%AB%E0%B8%B2%E0%B8%87%E0%B8%B2%E0%B8%99/hrm-manager-49850%20-%20reeracoen-eastern-seaboard-recruitment/jobpost/24794/1417                                                                                                                                                                                                                                                                                                                                                                                                                                                                                                                                                                                                                                                                                                                                                                                                                                                                                                                                                                                                                                                                                                                                                                                                                                                                                                                                                                                                                                                                                                                                                                                         \n",
       "57    https://www.jobtopgun.com/%E0%B8%AB%E0%B8%B2%E0%B8%87%E0%B8%B2%E0%B8%99/sales-executive%20-%20%E0%B8%AA%E0%B8%9B%E0%B8%AD%E0%B8%A3%E0%B9%8C%E0%B8%95%E0%B8%AA-%E0%B9%80%E0%B8%AD%E0%B9%87%E0%B8%99%E0%B8%88%E0%B8%B4%E0%B9%80%E0%B8%99%E0%B8%B5%E0%B8%A2%E0%B8%A3%E0%B8%B4%E0%B9%88%E0%B8%87-%E0%B9%81%E0%B8%AD%E0%B8%99%E0%B8%94%E0%B9%8C-%E0%B8%A3%E0%B8%B5%E0%B8%84%E0%B8%A3%E0%B8%B5%E0%B9%80%E0%B8%AD%E0%B8%8A%E0%B8%B1%E0%B9%88%E0%B8%99-%E0%B9%80%E0%B8%AD%E0%B9%80%E0%B8%8B%E0%B8%B5%E0%B8%A2/jobpost/540/50                                                                                                                                                                                                                                                                                                                                                                                                                                                                                                                                                                                                                                                                                                                                                                                                                                                                                                                                                                                                                                                                                                                                                                                                                              \n",
       "58    https://www.jobtopgun.com/%E0%B8%AB%E0%B8%B2%E0%B8%87%E0%B8%B2%E0%B8%99/sales-executive-senior-sales-executive-%E0%B8%9B%E0%B8%A3%E0%B8%B0%E0%B8%88%E0%B8%B3%E0%B8%A8%E0%B8%A3%E0%B8%B5%E0%B8%A3%E0%B8%B2%E0%B8%8A%E0%B8%B2%20-%20%E0%B8%AD%E0%B8%AD%E0%B8%A3%E0%B8%B4%E0%B8%88%E0%B8%B4%E0%B9%89%E0%B8%99-%E0%B8%9E%E0%B8%A3%E0%B9%87%E0%B8%AD%E0%B8%9E%E0%B9%80%E0%B8%9E%E0%B8%AD%E0%B8%A3%E0%B9%8C%E0%B8%95%E0%B8%B5%E0%B9%89/jobpost/19096/122                                                                                                                                                                                                                                                                                                                                                                                                                                                                                                                                                                                                                                                                                                                                                                                                                                                                                                                                                                                                                                                                                                                                                                                                                                                                                                \n",
       "59    https://www.jobtopgun.com/%E0%B8%AB%E0%B8%B2%E0%B8%87%E0%B8%B2%E0%B8%99/q-a-engineer-45684%20-%20reeracoen-eastern-seaboard-recruitment/jobpost/24794/1416                                                                                                                                                                                                                                                                                                                                                                                                                                                                                                                                                                                                                                                                                                                                                                                                                                                                                                                                                                                                                                                                                                                                                                                                                                                                                                                                                                                                                                                                                                                                                                                        \n",
       "60    https://www.jobtopgun.com/%E0%B8%AB%E0%B8%B2%E0%B8%87%E0%B8%B2%E0%B8%99/%E0%B9%80%E0%B8%A5%E0%B8%82%E0%B8%B2%E0%B8%99%E0%B8%B8%E0%B8%81%E0%B8%B2%E0%B8%A3%E0%B8%9C%E0%B8%B9%E0%B9%89%E0%B8%9A%E0%B8%A3%E0%B8%B4%E0%B8%AB%E0%B8%B2%E0%B8%A3%20-%20%E0%B8%9A%E0%B8%B5-%E0%B8%9E%E0%B8%A5%E0%B8%B1%E0%B8%AA-%E0%B8%9A%E0%B8%B5/jobpost/29847/24                                                                                                                                                                                                                                                                                                                                                                                                                                                                                                                                                                                                                                                                                                                                                                                                                                                                                                                                                                                                                                                                                                                                                                                                                                                                                                                                                                                                      \n",
       "61    https://www.jobtopgun.com/%E0%B8%AB%E0%B8%B2%E0%B8%87%E0%B8%B2%E0%B8%99/%E0%B9%80%E0%B8%88%E0%B9%89%E0%B8%B2%E0%B8%AB%E0%B8%99%E0%B9%89%E0%B8%B2%E0%B8%97%E0%B8%B5%E0%B9%88%E0%B8%9C%E0%B8%B9%E0%B9%89%E0%B8%8A%E0%B9%88%E0%B8%A7%E0%B8%A2%E0%B9%81%E0%B8%9E%E0%B8%97%E0%B8%A2%E0%B9%8C%20-%20%E0%B9%82%E0%B8%A3%E0%B8%87%E0%B8%9E%E0%B8%A2%E0%B8%B2%E0%B8%9A%E0%B8%B2%E0%B8%A5%E0%B8%88%E0%B8%B1%E0%B8%81%E0%B8%A9%E0%B8%B8%E0%B8%A3%E0%B8%B1%E0%B8%95%E0%B8%99%E0%B8%B4%E0%B8%99/jobpost/18555/85                                                                                                                                                                                                                                                                                                                                                                                                                                                                                                                                                                                                                                                                                                                                                                                                                                                                                                                                                                                                                                                                                                                                                                                                                                               \n",
       "62    https://www.jobtopgun.com/%E0%B8%AB%E0%B8%B2%E0%B8%87%E0%B8%B2%E0%B8%99/%E0%B9%80%E0%B8%88%E0%B9%89%E0%B8%B2%E0%B8%AB%E0%B8%99%E0%B9%89%E0%B8%B2%E0%B8%97%E0%B8%B5%E0%B9%88%E0%B8%9A%E0%B8%B1%E0%B8%8D%E0%B8%8A%E0%B8%B5%20-%20%E0%B8%9A%E0%B8%B5-%E0%B8%9E%E0%B8%A5%E0%B8%B1%E0%B8%AA-%E0%B8%9A%E0%B8%B5/jobpost/29847/31                                                                                                                                                                                                                                                                                                                                                                                                                                                                                                                                                                                                                                                                                                                                                                                                                                                                                                                                                                                                                                                                                                                                                                                                                                                                                                                                                                                                                        \n",
       "63    https://www.jobtopgun.com/%E0%B8%AB%E0%B8%B2%E0%B8%87%E0%B8%B2%E0%B8%99/qa-supervisor-49851%20-%20reeracoen-eastern-seaboard-recruitment/jobpost/24794/1415                                                                                                                                                                                                                                                                                                                                                                                                                                                                                                                                                                                                                                                                                                                                                                                                                                                                                                                                                                                                                                                                                                                                                                                                                                                                                                                                                                                                                                                                                                                                                                                       \n",
       "64    https://www.jobtopgun.com/%E0%B8%AB%E0%B8%B2%E0%B8%87%E0%B8%B2%E0%B8%99/administrative-officer%20-%20%E0%B9%82%E0%B8%81%E0%B8%A5%E0%B8%9A%E0%B8%AD%E0%B8%A5-%E0%B9%80%E0%B8%A7%E0%B8%99%E0%B9%80%E0%B8%88%E0%B8%AD%E0%B8%A3%E0%B9%8C-%E0%B9%82%E0%B8%8B%E0%B8%A5%E0%B8%B9%E0%B8%8A%E0%B8%B1%E0%B9%88%E0%B8%99%E0%B8%AA%E0%B9%8C/jobpost/6196/32                                                                                                                                                                                                                                                                                                                                                                                                                                                                                                                                                                                                                                                                                                                                                                                                                                                                                                                                                                                                                                                                                                                                                                                                                                                                                                                                                                                                   \n",
       "65    https://www.jobtopgun.com/%E0%B8%AB%E0%B8%B2%E0%B8%87%E0%B8%B2%E0%B8%99/accounting-officer-urgent%20-%20%E0%B9%82%E0%B8%81%E0%B8%A5%E0%B8%9A%E0%B8%AD%E0%B8%A5-%E0%B9%80%E0%B8%A7%E0%B8%99%E0%B9%80%E0%B8%88%E0%B8%AD%E0%B8%A3%E0%B9%8C-%E0%B9%82%E0%B8%8B%E0%B8%A5%E0%B8%B9%E0%B8%8A%E0%B8%B1%E0%B9%88%E0%B8%99%E0%B8%AA%E0%B9%8C/jobpost/6196/33                                                                                                                                                                                                                                                                                                                                                                                                                                                                                                                                                                                                                                                                                                                                                                                                                                                                                                                                                                                                                                                                                                                                                                                                                                                                                                                                                                                                \n",
       "66    https://www.jobtopgun.com/%E0%B8%AB%E0%B8%B2%E0%B8%87%E0%B8%B2%E0%B8%99/%E0%B9%80%E0%B8%A0%E0%B8%AA%E0%B8%B1%E0%B8%8A%E0%B8%81%E0%B8%A3%20-%20tria-integrative-wellness/jobpost/10565/45                                                                                                                                                                                                                                                                                                                                                                                                                                                                                                                                                                                                                                                                                                                                                                                                                                                                                                                                                                                                                                                                                                                                                                                                                                                                                                                                                                                                                                                                                                                                                          \n",
       "67    https://www.jobtopgun.com/%E0%B8%AB%E0%B8%B2%E0%B8%87%E0%B8%B2%E0%B8%99/%E0%B9%80%E0%B8%88%E0%B9%89%E0%B8%B2%E0%B8%AB%E0%B8%99%E0%B9%89%E0%B8%B2%E0%B8%97%E0%B8%B5%E0%B9%88%E0%B8%9D%E0%B9%88%E0%B8%B2%E0%B8%A2%E0%B8%9A%E0%B8%B8%E0%B8%84%E0%B8%84%E0%B8%A5%E0%B8%AD%E0%B8%B2%E0%B8%A7%E0%B8%B8%E0%B9%82%E0%B8%AA%20-%20%E0%B8%9A%E0%B8%B8%E0%B8%A3%E0%B8%B5%E0%B8%A3%E0%B8%B1%E0%B8%A1%E0%B8%A2%E0%B9%8C%E0%B8%A2%E0%B8%B9%E0%B9%84%E0%B8%99%E0%B9%80%E0%B8%95%E0%B9%87%E0%B8%94%E0%B8%AD%E0%B8%B4%E0%B8%99%E0%B9%80%E0%B8%95%E0%B8%AD%E0%B8%A3%E0%B9%8C%E0%B9%80%E0%B8%99%E0%B8%8A%E0%B8%B1%E0%B9%88%E0%B8%99%E0%B9%81%E0%B8%99%E0%B8%A5%E0%B9%80%E0%B8%8B%E0%B8%AD%E0%B8%A3%E0%B9%8C%E0%B8%81%E0%B8%B4%E0%B8%95/jobpost/36637/11                                                                                                                                                                                                                                                                                                                                                                                                                                                                                                                                                                                                                                                                                                                                                                                                                                                                                                                                                                                                              \n",
       "68    https://www.jobtopgun.com/%E0%B8%AB%E0%B8%B2%E0%B8%87%E0%B8%B2%E0%B8%99/marketing-product-planning-engineer-bangkok-49854%20-%20reeracoen-eastern-seaboard-recruitment/jobpost/24794/1414                                                                                                                                                                                                                                                                                                                                                                                                                                                                                                                                                                                                                                                                                                                                                                                                                                                                                                                                                                                                                                                                                                                                                                                                                                                                                                                                                                                                                                                                                                                                                         \n",
       "69    https://www.jobtopgun.com/%E0%B8%AB%E0%B8%B2%E0%B8%87%E0%B8%B2%E0%B8%99/sales-marketing%20-%20%E0%B8%AA%E0%B8%95%E0%B8%A3%E0%B8%B5%E0%B8%A1%E0%B9%81%E0%B8%AD%E0%B9%87%E0%B8%81%E0%B8%8B%E0%B9%8C-%E0%B8%9B%E0%B8%A3%E0%B8%B0%E0%B9%80%E0%B8%97%E0%B8%A8%E0%B9%84%E0%B8%97%E0%B8%A2/jobpost/239746/1                                                                                                                                                                                                                                                                                                                                                                                                                                                                                                                                                                                                                                                                                                                                                                                                                                                                                                                                                                                                                                                                                                                                                                                                                                                                                                                                                                                                                                              \n",
       "70    https://www.jobtopgun.com/%E0%B8%AB%E0%B8%B2%E0%B8%87%E0%B8%B2%E0%B8%99/%E0%B9%80%E0%B8%88%E0%B9%89%E0%B8%B2%E0%B8%AB%E0%B8%99%E0%B9%89%E0%B8%B2%E0%B8%97%E0%B8%B5%E0%B9%88%E0%B8%A7%E0%B8%B4%E0%B9%80%E0%B8%84%E0%B8%A3%E0%B8%B2%E0%B8%B0%E0%B8%AB%E0%B9%8C%E0%B8%87%E0%B8%9A%E0%B8%9B%E0%B8%A3%E0%B8%B0%E0%B8%A1%E0%B8%B2%E0%B8%93%20-%20%E0%B8%9F%E0%B8%B9%E0%B9%89%E0%B8%94%E0%B9%81%E0%B8%9E%E0%B8%8A%E0%B8%8A%E0%B8%B1%E0%B9%88%E0%B8%99/jobpost/21010/118                                                                                                                                                                                                                                                                                                                                                                                                                                                                                                                                                                                                                                                                                                                                                                                                                                                                                                                                                                                                                                                                                                                                                                                                                                                                                  \n",
       "71    https://www.jobtopgun.com/%E0%B8%AB%E0%B8%B2%E0%B8%87%E0%B8%B2%E0%B8%99/sales-planning-promotion-sup-bangkok-38482%20-%20reeracoen-eastern-seaboard-recruitment/jobpost/24794/1413                                                                                                                                                                                                                                                                                                                                                                                                                                                                                                                                                                                                                                                                                                                                                                                                                                                                                                                                                                                                                                                                                                                                                                                                                                                                                                                                                                                                                                                                                                                                                                \n",
       "72    https://www.jobtopgun.com/%E0%B8%AB%E0%B8%B2%E0%B8%87%E0%B8%B2%E0%B8%99/account-manager-team-a-2-%E0%B8%95%E0%B8%B3%E0%B9%81%E0%B8%AB%E0%B8%99%E0%B9%88%E0%B8%87%20-%20%E0%B8%9A%E0%B8%A3%E0%B8%B4%E0%B8%A9%E0%B8%B1%E0%B8%97-%E0%B8%94%E0%B8%B5%E0%B8%9F%E0%B8%B4%E0%B8%A7%E0%B8%8A%E0%B8%B1%E0%B9%88%E0%B8%99-%E0%B8%88%E0%B8%B3%E0%B8%81%E0%B8%B1%E0%B8%94/jobpost/17659/13                                                                                                                                                                                                                                                                                                                                                                                                                                                                                                                                                                                                                                                                                                                                                                                                                                                                                                                                                                                                                                                                                                                                                                                                                                                                                                                                                                    \n",
       "73    https://www.jobtopgun.com/%E0%B8%AB%E0%B8%B2%E0%B8%87%E0%B8%B2%E0%B8%99/developer-programmer-3-%E0%B8%95%E0%B8%B3%E0%B9%81%E0%B8%AB%E0%B8%99%E0%B9%88%E0%B8%87%20-%20%E0%B8%9A%E0%B8%A3%E0%B8%B4%E0%B8%A9%E0%B8%B1%E0%B8%97-%E0%B8%94%E0%B8%B5%E0%B8%9F%E0%B8%B4%E0%B8%A7%E0%B8%8A%E0%B8%B1%E0%B9%88%E0%B8%99-%E0%B8%88%E0%B8%B3%E0%B8%81%E0%B8%B1%E0%B8%94/jobpost/17659/14                                                                                                                                                                                                                                                                                                                                                                                                                                                                                                                                                                                                                                                                                                                                                                                                                                                                                                                                                                                                                                                                                                                                                                                                                                                                                                                                                                      \n",
       "74    https://www.jobtopgun.com/%E0%B8%AB%E0%B8%B2%E0%B8%87%E0%B8%B2%E0%B8%99/management-trainee-team-a-2-%E0%B8%95%E0%B8%B3%E0%B9%81%E0%B8%AB%E0%B8%99%E0%B9%88%E0%B8%87%20-%20%E0%B8%9A%E0%B8%A3%E0%B8%B4%E0%B8%A9%E0%B8%B1%E0%B8%97-%E0%B8%94%E0%B8%B5%E0%B8%9F%E0%B8%B4%E0%B8%A7%E0%B8%8A%E0%B8%B1%E0%B9%88%E0%B8%99-%E0%B8%88%E0%B8%B3%E0%B8%81%E0%B8%B1%E0%B8%94/jobpost/17659/11                                                                                                                                                                                                                                                                                                                                                                                                                                                                                                                                                                                                                                                                                                                                                                                                                                                                                                                                                                                                                                                                                                                                                                                                                                                                                                                                                                 \n",
       "75    https://www.jobtopgun.com/%E0%B8%AB%E0%B8%B2%E0%B8%87%E0%B8%B2%E0%B8%99/project-manager-team-a-2-%E0%B8%95%E0%B8%B3%E0%B9%81%E0%B8%AB%E0%B8%99%E0%B9%88%E0%B8%87%20-%20%E0%B8%9A%E0%B8%A3%E0%B8%B4%E0%B8%A9%E0%B8%B1%E0%B8%97-%E0%B8%94%E0%B8%B5%E0%B8%9F%E0%B8%B4%E0%B8%A7%E0%B8%8A%E0%B8%B1%E0%B9%88%E0%B8%99-%E0%B8%88%E0%B8%B3%E0%B8%81%E0%B8%B1%E0%B8%94/jobpost/17659/12                                                                                                                                                                                                                                                                                                                                                                                                                                                                                                                                                                                                                                                                                                                                                                                                                                                                                                                                                                                                                                                                                                                                                                                                                                                                                                                                                                    \n",
       "76    https://www.jobtopgun.com/%E0%B8%AB%E0%B8%B2%E0%B8%87%E0%B8%B2%E0%B8%99/%E0%B8%9C%E0%B8%B9%E0%B9%89%E0%B8%88%E0%B8%B1%E0%B8%94%E0%B8%81%E0%B8%B2%E0%B8%A3%E0%B9%82%E0%B8%8A%E0%B8%A7%E0%B9%8C%E0%B8%A3%E0%B8%B9%E0%B8%A1%20-%20%E0%B8%99%E0%B8%99%E0%B8%97%E0%B8%9A%E0%B8%B8%E0%B8%A3%E0%B8%B5-%E0%B8%AE%E0%B8%AD%E0%B8%99%E0%B8%94%E0%B9%89%E0%B8%B2%E0%B8%84%E0%B8%B2%E0%B8%A3%E0%B9%8C%E0%B8%AA%E0%B9%8C/jobpost/806/21                                                                                                                                                                                                                                                                                                                                                                                                                                                                                                                                                                                                                                                                                                                                                                                                                                                                                                                                                                                                                                                                                                                                                                                                                                                                                                                        \n",
       "77    https://www.jobtopgun.com/%E0%B8%AB%E0%B8%B2%E0%B8%87%E0%B8%B2%E0%B8%99/digital-marketing-officer%20-%20%E0%B8%AA%E0%B8%A7%E0%B8%B1%E0%B8%AA%E0%B8%94%E0%B8%B5%E0%B8%8A%E0%B9%89%E0%B8%AD%E0%B8%9B/jobpost/3396/48                                                                                                                                                                                                                                                                                                                                                                                                                                                                                                                                                                                                                                                                                                                                                                                                                                                                                                                                                                                                                                                                                                                                                                                                                                                                                                                                                                                                                                                                                                                                \n",
       "78    https://www.jobtopgun.com/%E0%B8%AB%E0%B8%B2%E0%B8%87%E0%B8%B2%E0%B8%99/%E0%B8%9C%E0%B8%B9%E0%B9%89%E0%B8%88%E0%B8%B1%E0%B8%94%E0%B8%81%E0%B8%B2%E0%B8%A3%E0%B9%81%E0%B8%9C%E0%B8%99%E0%B8%81%E0%B8%9B%E0%B8%A3%E0%B8%B0%E0%B8%81%E0%B8%B1%E0%B8%99%E0%B8%84%E0%B8%B8%E0%B8%93%E0%B8%A0%E0%B8%B2%E0%B8%9E%20-%20%E0%B9%82%E0%B8%A5%E0%B8%AB%E0%B8%B0%E0%B8%81%E0%B8%B4%E0%B8%88-%E0%B9%80%E0%B8%A1%E0%B9%87%E0%B8%97%E0%B8%97%E0%B8%AD%E0%B8%A5/jobpost/26382/14                                                                                                                                                                                                                                                                                                                                                                                                                                                                                                                                                                                                                                                                                                                                                                                                                                                                                                                                                                                                                                                                                                                                                                                                                                                                                  \n",
       "79    https://www.jobtopgun.com/%E0%B8%AB%E0%B8%B2%E0%B8%87%E0%B8%B2%E0%B8%99/%E0%B9%80%E0%B8%88%E0%B9%89%E0%B8%B2%E0%B8%AB%E0%B8%99%E0%B9%89%E0%B8%B2%E0%B8%97%E0%B8%B5%E0%B9%88%E0%B8%AA%E0%B8%99%E0%B8%B1%E0%B8%9A%E0%B8%AA%E0%B8%99%E0%B8%B8%E0%B8%99%E0%B8%81%E0%B8%B2%E0%B8%A3%E0%B8%82%E0%B8%B2%E0%B8%A2-it-project-sales-support-officer-%E0%B8%A3%E0%B8%B1%E0%B8%9A%E0%B9%80%E0%B8%89%E0%B8%9E%E0%B8%B2%E0%B8%B0%E0%B8%9C%E0%B8%B9%E0%B9%89%E0%B8%97%E0%B8%B5%E0%B9%88%E0%B8%88%E0%B8%9A%E0%B8%94%E0%B9%89%E0%B8%B2%E0%B8%99%E0%B8%84%E0%B8%AD%E0%B8%A1%E0%B8%9E%E0%B8%B4%E0%B8%A7%E0%B9%80%E0%B8%95%E0%B8%AD%E0%B8%A3%E0%B9%8C%20-%20%E0%B8%9A%E0%B8%A3%E0%B8%B4%E0%B8%A9%E0%B8%B1%E0%B8%97-%E0%B8%94%E0%B8%B5-%E0%B8%97%E0%B8%B5-%E0%B8%8B%E0%B8%B5-%E0%B9%80%E0%B8%AD%E0%B9%87%E0%B8%99%E0%B9%80%E0%B8%95%E0%B8%AD%E0%B8%A3%E0%B9%8C%E0%B9%84%E0%B8%9E%E0%B8%A3%E0%B8%AA%E0%B9%8C-%E0%B8%88%E0%B8%B3%E0%B8%81%E0%B8%B1%E0%B8%94/jobpost/20290/73                                                                                                                                                                                                                                                                                                                                                                                                                                                                                                                                                                                                                                                                                                                                                                                            \n",
       "Name: url, Length: 80, dtype: object"
      ]
     },
     "execution_count": 4,
     "metadata": {},
     "output_type": "execute_result"
    }
   ],
   "source": [
    "df.url"
   ]
  },
  {
   "cell_type": "code",
   "execution_count": 10,
   "metadata": {},
   "outputs": [
    {
     "data": {
      "text/plain": [
       "'ดูเพิ่มเติม'"
      ]
     },
     "execution_count": 10,
     "metadata": {},
     "output_type": "execute_result"
    }
   ],
   "source": [
    "lastSeeMore"
   ]
  },
  {
   "cell_type": "code",
   "execution_count": 12,
   "metadata": {},
   "outputs": [],
   "source": [
    "driver = webdriver.Firefox()\n",
    "driver.get(df.url[1])\n",
    "\n",
    "q = driver.find_element_by_id('qualification')"
   ]
  },
  {
   "cell_type": "code",
   "execution_count": 11,
   "metadata": {},
   "outputs": [],
   "source": [
    "driver.quit()"
   ]
  },
  {
   "cell_type": "code",
   "execution_count": 13,
   "metadata": {},
   "outputs": [
    {
     "data": {
      "text/plain": [
       "'• Bachelor / Master’s degree in Business, Finance, Accounting, Engineering, Science or other related\\n• At least 2 years of Commercial Banking / Corporate Banking experience with strong credit skills\\n• Strong analytical skills and knowledge of Financial Accounting\\n• Good selling and client relationship skills.\\n• Highly motivated\\n• Available to work at Nakhon Ratchasima, Amata Nakorn, Phuket is an advantage\\n '"
      ]
     },
     "execution_count": 13,
     "metadata": {},
     "output_type": "execute_result"
    }
   ],
   "source": [
    "q.text"
   ]
  },
  {
   "cell_type": "code",
   "execution_count": 16,
   "metadata": {},
   "outputs": [],
   "source": [
    "del q"
   ]
  },
  {
   "cell_type": "code",
   "execution_count": 19,
   "metadata": {},
   "outputs": [
    {
     "data": {
      "text/plain": [
       "'https://www.jobtopgun.com/%E0%B8%AB%E0%B8%B2%E0%B8%87%E0%B8%B2%E0%B8%99/%E0%B9%82%E0%B8%84%E0%B8%A3%E0%B8%87%E0%B8%81%E0%B8%B2%E0%B8%A3%E0%B8%9E%E0%B8%B1%E0%B8%92%E0%B8%99%E0%B8%B2%E0%B8%99%E0%B8%B1%E0%B8%81%E0%B8%9A%E0%B8%A3%E0%B8%B4%E0%B8%AB%E0%B8%B2%E0%B8%A3%E0%B8%81%E0%B8%B2%E0%B8%A3%E0%B9%80%E0%B8%9B%E0%B8%A5%E0%B8%B5%E0%B9%88%E0%B8%A2%E0%B8%99%E0%B9%81%E0%B8%9B%E0%B8%A5%E0%B8%87%E0%B8%A3%E0%B8%B8%E0%B9%88%E0%B8%99%E0%B9%83%E0%B8%AB%E0%B8%A1%E0%B9%88-%E0%B8%99%E0%B8%9B%E0%B8%A3-%E0%B8%A3%E0%B8%B8%E0%B9%88%E0%B8%99%E0%B8%97%E0%B8%B5%E0%B9%88-13-**-%E0%B8%95%E0%B9%89%E0%B8%AD%E0%B8%87%E0%B8%AA%E0%B8%A1%E0%B8%B1%E0%B8%84%E0%B8%A3%E0%B8%95%E0%B8%A3%E0%B8%87%E0%B8%81%E0%B8%B1%E0%B8%9A%E0%B8%AA%E0%B8%B3%E0%B8%99%E0%B8%B1%E0%B8%81%E0%B8%87%E0%B8%B2%E0%B8%99-%E0%B8%81-%E0%B8%9E-%E0%B8%A3-%E0%B9%80%E0%B8%97%E0%B9%88%E0%B8%B2%E0%B8%99%E0%B8%B1%E0%B9%89%E0%B8%99-**%20-%20%E0%B8%AA%E0%B8%96%E0%B8%B2%E0%B8%9A%E0%B8%B1%E0%B8%99%E0%B8%AA%E0%B9%88%E0%B8%87%E0%B9%80%E0%B8%AA%E0%B8%A3%E0%B8%B4%E0%B8%A1%E0%B8%81%E0%B8%B2%E0%B8%A3%E0%B8%9A%E0%B8%A3%E0%B8%B4%E0%B8%AB%E0%B8%B2%E0%B8%A3%E0%B8%81%E0%B8%B4%E0%B8%88%E0%B8%81%E0%B8%B2%E0%B8%A3%E0%B8%9A%E0%B9%89%E0%B8%B2%E0%B8%99%E0%B9%80%E0%B8%A1%E0%B8%B7%E0%B8%AD%E0%B8%87%E0%B8%97%E0%B8%B5%E0%B9%88%E0%B8%94%E0%B8%B5-%E0%B8%AA%E0%B8%B3%E0%B8%99%E0%B8%B1%E0%B8%81%E0%B8%87%E0%B8%B2%E0%B8%99-%E0%B8%81-%E0%B8%9E-%E0%B8%A3-%E0%B8%AA%E0%B8%B3%E0%B8%99%E0%B8%B1%E0%B8%81%E0%B8%87%E0%B8%B2%E0%B8%99%E0%B8%84%E0%B8%93%E0%B8%B0%E0%B8%81%E0%B8%A3%E0%B8%A3%E0%B8%A1%E0%B8%81%E0%B8%B2%E0%B8%A3%E0%B8%9E%E0%B8%B1%E0%B8%92%E0%B8%99%E0%B8%B2%E0%B8%A3%E0%B8%B0%E0%B8%9A%E0%B8%9A%E0%B8%A3%E0%B8%B2%E0%B8%8A%E0%B8%81%E0%B8%B2%E0%B8%A3/jobpost/28545/3'"
      ]
     },
     "execution_count": 19,
     "metadata": {},
     "output_type": "execute_result"
    }
   ],
   "source": [
    "df.url[0]"
   ]
  },
  {
   "cell_type": "code",
   "execution_count": null,
   "metadata": {},
   "outputs": [],
   "source": []
  }
 ],
 "metadata": {
  "kernelspec": {
   "display_name": "Python 3",
   "language": "python",
   "name": "python3"
  },
  "language_info": {
   "codemirror_mode": {
    "name": "ipython",
    "version": 3
   },
   "file_extension": ".py",
   "mimetype": "text/x-python",
   "name": "python",
   "nbconvert_exporter": "python",
   "pygments_lexer": "ipython3",
   "version": "3.6.6"
  }
 },
 "nbformat": 4,
 "nbformat_minor": 2
}
